{
 "cells": [
  {
   "cell_type": "markdown",
   "metadata": {},
   "source": [
    "# Overview\n",
    "\n",
    "Recommendations are being used to recommend everything from movies to music to friends to new destinations. There are three main methods for implementing recommendations that you will become familiar with throughout this lesson:\n",
    "\n",
    "- Knowledge Based Recommendations \n",
    "- Collaborative Filtering Based Recommendations\n",
    "- Content Based Recommendations\n",
    "\n",
    "...and more advanced technique to follow\n",
    "\n",
    "### Collaborative filtering\n",
    "Within Collaborative Filtering, there are two main branches:\n",
    "\n",
    "- Model Based Collaborative Filtering\n",
    "- Neighborhood Based Collaborative Filtering\n",
    "\n",
    "In order to implement Neighborhood Based Collaborative Filtering, you will learn about some common ways to measure the similarity between two users (or two items) including:\n",
    "\n",
    "- Pearson's correlation coefficient\n",
    "- Spearman's correlation coefficient\n",
    "- Kendall's Tau\n",
    "- Euclidean Distance\n",
    "- Manhattan Distance\n",
    "\n",
    "You will learn why sometimes one metric works better than another by looking at a specific situation where one metric provides more information than another.\n",
    "\n",
    "\n",
    "### Example Recommendations\n",
    "- **LinkedIn and Facebook:** Both LinkedIn and Facebook have recommendations for connections (business of friends) similar to what is shown below.\n",
    "- **AirBnB Experiences and Destinations:** AirBnB uses recommendations to determine experiences and destinations for their users.\n",
    "- **Walmart, Amazon, and Other Retailers:** As humans on the Internet, we all get pinged with constant recommendations from retailers.\n",
    "\n",
    "### Business Cases For Recommendations\n",
    "Finally, you will look at the four ideas needed for businesses to implement successful recommendations to drive revenue, which include:\n",
    "\n",
    "- Relevance\n",
    "- Novelty\n",
    "- Serendipity\n",
    "- Increased Diversity\n"
   ]
  },
  {
   "cell_type": "markdown",
   "metadata": {},
   "source": [
    "---\n",
    "# Recommendations with MovieTweetings: "
   ]
  },
  {
   "cell_type": "markdown",
   "metadata": {},
   "source": [
    "## Getting to Know The Data\n",
    "\n",
    "Throughout this lesson, you will be working with the [MovieTweetings Data](https://github.com/sidooms/MovieTweetings/tree/master/recsyschallenge2014).  To get started, you can read more about this project and the dataset from the [publication here](http://crowdrec2013.noahlab.com.hk/papers/crowdrec2013_Dooms.pdf).\n",
    "\n",
    "**Note:** Think of pros and cons of each recommendation method and how to improve it."
   ]
  },
  {
   "cell_type": "code",
   "execution_count": 10,
   "metadata": {},
   "outputs": [],
   "source": [
    "import numpy as np\n",
    "import pandas as pd\n",
    "import matplotlib.pyplot as plt\n",
    "import tests as t\n",
    "\n",
    "%matplotlib inline\n",
    "%config Completer.use_jedi = False"
   ]
  },
  {
   "cell_type": "code",
   "execution_count": 211,
   "metadata": {},
   "outputs": [],
   "source": [
    "import re\n",
    "import datetime"
   ]
  },
  {
   "cell_type": "code",
   "execution_count": 33,
   "metadata": {
    "scrolled": false
   },
   "outputs": [],
   "source": [
    "movies = pd.read_csv('movies.dat', delimiter='::', engine='python', header=None, names=['movie_id', 'movie', 'genre'], dtype={'movie_id': object})\n",
    "reviews = pd.read_csv('ratings.dat', delimiter='::', engine='python', header=None, names=['user_id', 'movie_id', 'rating', 'timestamp'], dtype={'movie_id': object, 'user_id': object, 'timestamp': object})"
   ]
  },
  {
   "cell_type": "markdown",
   "metadata": {},
   "source": [
    "## 1. Take a Look At The Data \n",
    "\n",
    "Take a look at the data and use your findings to fill in the dictionary below with the correct responses to show your understanding of the data."
   ]
  },
  {
   "cell_type": "code",
   "execution_count": 28,
   "metadata": {},
   "outputs": [
    {
     "data": {
      "text/plain": [
       "35479"
      ]
     },
     "execution_count": 28,
     "metadata": {},
     "output_type": "execute_result"
    }
   ],
   "source": [
    "# Number of unique movie by id\n",
    "movies.movie_id.shape[0]"
   ]
  },
  {
   "cell_type": "code",
   "execution_count": 26,
   "metadata": {},
   "outputs": [
    {
     "data": {
      "text/plain": [
       "863866"
      ]
     },
     "execution_count": 26,
     "metadata": {},
     "output_type": "execute_result"
    }
   ],
   "source": [
    "# Number of unique ratings \n",
    "reviews.shape[0]"
   ]
  },
  {
   "cell_type": "code",
   "execution_count": 30,
   "metadata": {
    "scrolled": true
   },
   "outputs": [
    {
     "data": {
      "text/plain": [
       "Drama                                              3602\n",
       "Comedy                                             2091\n",
       "Documentary                                        1443\n",
       "Comedy|Drama                                       1371\n",
       "Drama|Romance                                      1199\n",
       "                                                   ... \n",
       "Animation|Comedy|Drama|Fantasy|Mystery|Thriller       1\n",
       "Animation|Biography|Crime|Drama|Mystery               1\n",
       "Animation|Short|Comedy|Drama|Sci-Fi                   1\n",
       "Romance|Sport                                         1\n",
       "Documentary|Biography|News|War                        1\n",
       "Name: genre, Length: 2736, dtype: int64"
      ]
     },
     "execution_count": 30,
     "metadata": {},
     "output_type": "execute_result"
    }
   ],
   "source": [
    "# Number of different genres\n",
    "movies.genre.value_counts() # this may not be a good way"
   ]
  },
  {
   "cell_type": "code",
   "execution_count": 183,
   "metadata": {},
   "outputs": [
    {
     "name": "stdout",
     "output_type": "stream",
     "text": [
      "Total number of unique genres is 28\n"
     ]
    }
   ],
   "source": [
    "# HINTed --> loop through each row \n",
    "\n",
    "# Reason for try-except\n",
    "    # AttributeError: 'float' object has no attribute 'split'\n",
    "    # may be caused by NaN\n",
    "    \n",
    "genre_list = []\n",
    "for genre in movies.genre:\n",
    "    try:\n",
    "        genre_list.extend(genre.split('|'))\n",
    "    except AttributeError:\n",
    "        pass\n",
    "    \n",
    "genre_set = set(genre_list)\n",
    "print(f'Total number of unique genres is {len(genre_set)}')"
   ]
  },
  {
   "cell_type": "code",
   "execution_count": 32,
   "metadata": {},
   "outputs": [
    {
     "data": {
      "text/plain": [
       "67353"
      ]
     },
     "execution_count": 32,
     "metadata": {},
     "output_type": "execute_result"
    }
   ],
   "source": [
    "# Number of unique users\n",
    "reviews.user_id.nunique()"
   ]
  },
  {
   "cell_type": "code",
   "execution_count": 38,
   "metadata": {},
   "outputs": [
    {
     "data": {
      "text/plain": [
       "user_id      0\n",
       "movie_id     0\n",
       "rating       0\n",
       "timestamp    0\n",
       "dtype: int64"
      ]
     },
     "execution_count": 38,
     "metadata": {},
     "output_type": "execute_result"
    }
   ],
   "source": [
    "# Number of missing ratings\n",
    "reviews.isnull().sum()"
   ]
  },
  {
   "cell_type": "code",
   "execution_count": 41,
   "metadata": {},
   "outputs": [
    {
     "data": {
      "text/plain": [
       "count    863866.000000\n",
       "mean          7.315878\n",
       "std           1.853831\n",
       "min           0.000000\n",
       "25%           6.000000\n",
       "50%           8.000000\n",
       "75%           9.000000\n",
       "max          10.000000\n",
       "Name: rating, dtype: float64"
      ]
     },
     "execution_count": 41,
     "metadata": {},
     "output_type": "execute_result"
    }
   ],
   "source": [
    "# Summary statistics for ratings\n",
    "reviews.rating.describe()"
   ]
  },
  {
   "cell_type": "code",
   "execution_count": 229,
   "metadata": {},
   "outputs": [],
   "source": [
    "# Use your findings to match each variable to the correct statement in the dictionary\n",
    "\n",
    "\n",
    "dict_sol1 = {\n",
    "'The number of movies in the dataset': 35479,\n",
    "'The number of ratings in the dataset': 863866,\n",
    "'The number of different genres': 28,\n",
    "'The number of unique users in the dataset': 67353,\n",
    "'The number missing ratings in the reviews dataset': 0,\n",
    "'The average rating given across all ratings': 7.315878,\n",
    "'The minimum rating given across all ratings': 0.000000,\n",
    "'The maximum rating given across all ratings': 10.000000,\n",
    "}"
   ]
  },
  {
   "cell_type": "markdown",
   "metadata": {},
   "source": [
    "## 2. Data Cleaning\n",
    "\n",
    "Next, we need to pull some additional relevant information out of the existing columns. \n",
    "\n",
    "For each of the datasets, there are a couple of cleaning steps we need to take care of:\n",
    "\n",
    "#### Movies\n",
    "* Pull the date from the title and create new column\n",
    "* Dummy the date column with 1's and 0's for each century of a movie (1800's, 1900's, and 2000's)\n",
    "* Dummy column the genre with 1's and 0's\n",
    "\n",
    "#### Reviews\n",
    "* Create a date out of time stamp"
   ]
  },
  {
   "cell_type": "markdown",
   "metadata": {},
   "source": [
    "### `movies` Pull the data from the title and create new column"
   ]
  },
  {
   "cell_type": "code",
   "execution_count": 52,
   "metadata": {},
   "outputs": [
    {
     "data": {
      "text/plain": [
       "6303                      Yasha (1985)\n",
       "4013        Meng long guo jiang (1972)\n",
       "11069    303 Fear Faith Revenge (1999)\n",
       "4245                     Zardoz (1974)\n",
       "17252          Zone of the Dead (2009)\n",
       "Name: movie, dtype: object"
      ]
     },
     "execution_count": 52,
     "metadata": {},
     "output_type": "execute_result"
    }
   ],
   "source": [
    "# Let's see how movie title column looks\n",
    "movies.movie.sample(5)"
   ]
  },
  {
   "cell_type": "markdown",
   "metadata": {},
   "source": [
    "After a random sampling, most movie titles are found to have formats as `title (year).`"
   ]
  },
  {
   "cell_type": "code",
   "execution_count": 135,
   "metadata": {},
   "outputs": [],
   "source": [
    "def extract_year(title):\n",
    "    ''' Extract year from movie title formatted as title (year).\n",
    "    For example, 'Edison Kinetoscopic Record of a Sneeze (1894)'\n",
    "    \n",
    "    Argment: movie title in string\n",
    "    Return: year in int \n",
    "    '''\n",
    "    \n",
    "    # Using regex operations to find year that match the pattern     \n",
    "    import re\n",
    "    pattern = re.compile(r'\\((\\d{4})\\)') \n",
    "    year = pattern.search(title).group(0) # i.e. return '(2020)' \n",
    "    year = year.replace('(','').replace(')','')\n",
    "    \n",
    "    return int(year)"
   ]
  },
  {
   "cell_type": "code",
   "execution_count": 136,
   "metadata": {},
   "outputs": [],
   "source": [
    "# Create a 'year' column with the extracted year\n",
    "movies['year'] = movies.movie.apply(extract_year)"
   ]
  },
  {
   "cell_type": "code",
   "execution_count": 141,
   "metadata": {},
   "outputs": [
    {
     "data": {
      "text/plain": [
       "count    35479.000000\n",
       "mean      2000.158911\n",
       "std         21.052628\n",
       "min       1878.000000\n",
       "25%       1992.000000\n",
       "50%       2009.000000\n",
       "75%       2014.000000\n",
       "max       2021.000000\n",
       "Name: year, dtype: float64"
      ]
     },
     "execution_count": 141,
     "metadata": {},
     "output_type": "execute_result"
    }
   ],
   "source": [
    "# Confirm the change\n",
    "movies['year'].describe()"
   ]
  },
  {
   "cell_type": "code",
   "execution_count": 142,
   "metadata": {},
   "outputs": [
    {
     "data": {
      "text/plain": [
       "array([1894, 1895, 1896, 1902, 1903, 1908, 1909, 1910, 1911, 1912, 1913,\n",
       "       1914, 1916, 1915, 1917, 1918, 1919, 1920, 1921, 1922, 1923, 1924,\n",
       "       1925, 1926, 1927, 1928, 1929, 1930, 1931, 1932, 1933, 1934, 1935,\n",
       "       1936, 1937, 1940, 1938, 1939, 1941, 1942, 1944, 1943, 2001, 1945,\n",
       "       1946, 1947, 1948, 1949, 1952, 1950, 1951, 1954, 1953, 1955, 1956,\n",
       "       1957, 1958, 1959, 1961, 1962, 1960, 1963, 1968, 1964, 1965, 1971,\n",
       "       1967, 1966, 1969, 1970, 1972, 1990, 1973, 1974, 2018, 1975, 1976,\n",
       "       1978, 1977, 1981, 1979, 1982, 1980, 1989, 1986, 1984, 1983, 1987,\n",
       "       1985, 1988, 2002, 1992, 1991, 1993, 1994, 1995, 1996, 1999, 1997,\n",
       "       1998, 2005, 2000, 2003, 2010, 2004, 2008, 1901, 2006, 2007, 2012,\n",
       "       1900, 2009, 2016, 2011, 2015, 2017, 2013, 2014, 2019, 1888, 2020,\n",
       "       1898, 1878, 1907, 2021])"
      ]
     },
     "execution_count": 142,
     "metadata": {},
     "output_type": "execute_result"
    }
   ],
   "source": [
    "# Check for each years - looks ok\n",
    "movies.year.sort_index(ascending=True).unique()"
   ]
  },
  {
   "cell_type": "markdown",
   "metadata": {},
   "source": [
    "### `movies` Dummy the date column with 1's and 0's for each century of a movie \n",
    " \n",
    "Example of centuries: 1800's, 1900's, and 2000's"
   ]
  },
  {
   "cell_type": "code",
   "execution_count": 152,
   "metadata": {},
   "outputs": [],
   "source": [
    "# Group year by century\n",
    "movies['century'] = pd.cut(movies.year, bins=[1800, 1900, 2000 ,2100], \n",
    "                           right=False, labels=['1800s', '1900s', '2000s'])"
   ]
  },
  {
   "cell_type": "code",
   "execution_count": 160,
   "metadata": {},
   "outputs": [],
   "source": [
    "# Get dummies \n",
    "dummies = pd.get_dummies(data=movies['century'])\n",
    "\n",
    "# Concat dummies to movies dataframe\n",
    "movies = pd.concat([movies, dummies], axis=1)"
   ]
  },
  {
   "cell_type": "code",
   "execution_count": 167,
   "metadata": {},
   "outputs": [
    {
     "data": {
      "text/html": [
       "<div>\n",
       "<style scoped>\n",
       "    .dataframe tbody tr th:only-of-type {\n",
       "        vertical-align: middle;\n",
       "    }\n",
       "\n",
       "    .dataframe tbody tr th {\n",
       "        vertical-align: top;\n",
       "    }\n",
       "\n",
       "    .dataframe thead th {\n",
       "        text-align: right;\n",
       "    }\n",
       "</style>\n",
       "<table border=\"1\" class=\"dataframe\">\n",
       "  <thead>\n",
       "    <tr style=\"text-align: right;\">\n",
       "      <th></th>\n",
       "      <th>movie_id</th>\n",
       "      <th>movie</th>\n",
       "      <th>genre</th>\n",
       "      <th>year</th>\n",
       "      <th>century</th>\n",
       "      <th>1800s</th>\n",
       "      <th>1900s</th>\n",
       "      <th>2000s</th>\n",
       "    </tr>\n",
       "  </thead>\n",
       "  <tbody>\n",
       "    <tr>\n",
       "      <th>16308</th>\n",
       "      <td>1002563</td>\n",
       "      <td>The Young Messiah (2016)</td>\n",
       "      <td>Drama|Fantasy</td>\n",
       "      <td>2016</td>\n",
       "      <td>2000s</td>\n",
       "      <td>0</td>\n",
       "      <td>0</td>\n",
       "      <td>1</td>\n",
       "    </tr>\n",
       "    <tr>\n",
       "      <th>12508</th>\n",
       "      <td>0325761</td>\n",
       "      <td>Luster (2002)</td>\n",
       "      <td>Comedy|Drama</td>\n",
       "      <td>2002</td>\n",
       "      <td>2000s</td>\n",
       "      <td>0</td>\n",
       "      <td>0</td>\n",
       "      <td>1</td>\n",
       "    </tr>\n",
       "    <tr>\n",
       "      <th>27350</th>\n",
       "      <td>3489470</td>\n",
       "      <td>Pas son genre (2014)</td>\n",
       "      <td>Drama|Romance</td>\n",
       "      <td>2014</td>\n",
       "      <td>2000s</td>\n",
       "      <td>0</td>\n",
       "      <td>0</td>\n",
       "      <td>1</td>\n",
       "    </tr>\n",
       "    <tr>\n",
       "      <th>13792</th>\n",
       "      <td>0414161</td>\n",
       "      <td>Intermedio (2005)</td>\n",
       "      <td>Horror|Thriller</td>\n",
       "      <td>2005</td>\n",
       "      <td>2000s</td>\n",
       "      <td>0</td>\n",
       "      <td>0</td>\n",
       "      <td>1</td>\n",
       "    </tr>\n",
       "    <tr>\n",
       "      <th>13886</th>\n",
       "      <td>0419198</td>\n",
       "      <td>La tigre e la neve (2005)</td>\n",
       "      <td>Comedy|Drama|Romance|War</td>\n",
       "      <td>2005</td>\n",
       "      <td>2000s</td>\n",
       "      <td>0</td>\n",
       "      <td>0</td>\n",
       "      <td>1</td>\n",
       "    </tr>\n",
       "  </tbody>\n",
       "</table>\n",
       "</div>"
      ],
      "text/plain": [
       "      movie_id                      movie                     genre  year  \\\n",
       "16308  1002563   The Young Messiah (2016)             Drama|Fantasy  2016   \n",
       "12508  0325761              Luster (2002)              Comedy|Drama  2002   \n",
       "27350  3489470       Pas son genre (2014)             Drama|Romance  2014   \n",
       "13792  0414161          Intermedio (2005)           Horror|Thriller  2005   \n",
       "13886  0419198  La tigre e la neve (2005)  Comedy|Drama|Romance|War  2005   \n",
       "\n",
       "      century  1800s  1900s  2000s  \n",
       "16308   2000s      0      0      1  \n",
       "12508   2000s      0      0      1  \n",
       "27350   2000s      0      0      1  \n",
       "13792   2000s      0      0      1  \n",
       "13886   2000s      0      0      1  "
      ]
     },
     "execution_count": 167,
     "metadata": {},
     "output_type": "execute_result"
    }
   ],
   "source": [
    "# Confirm changes\n",
    "movies.sample(5)"
   ]
  },
  {
   "cell_type": "markdown",
   "metadata": {},
   "source": [
    "### `movies` Dummy column the genre with 1's and 0's"
   ]
  },
  {
   "cell_type": "code",
   "execution_count": 185,
   "metadata": {},
   "outputs": [
    {
     "name": "stdout",
     "output_type": "stream",
     "text": [
      "{'History', 'Western', 'Drama', 'Biography', 'Talk-Show', 'War', 'Romance', 'Music', 'Comedy', 'Animation', 'Game-Show', 'Family', 'Horror', 'Musical', 'Sci-Fi', 'Action', 'Adult', 'Reality-TV', 'News', 'Thriller', 'Film-Noir', 'Short', 'Adventure', 'Fantasy', 'Crime', 'Mystery', 'Documentary', 'Sport'}\n"
     ]
    }
   ],
   "source": [
    "# Earlier defined 'genre_set'\n",
    "print(genre_set)"
   ]
  },
  {
   "cell_type": "code",
   "execution_count": 186,
   "metadata": {},
   "outputs": [],
   "source": [
    "# Extract genre and encode it binary\n",
    "def extract_genre(val):\n",
    "    try:\n",
    "        if val.find(genre) > -1: #  returns -1 if the value is not found.\n",
    "            return 1\n",
    "        else:\n",
    "            return 0\n",
    "        \n",
    "    except AttributeError:\n",
    "        return 0"
   ]
  },
  {
   "cell_type": "code",
   "execution_count": 188,
   "metadata": {},
   "outputs": [],
   "source": [
    "for genre in genre_set:\n",
    "    movies[genre] = movies.genre.apply(extract_genre)"
   ]
  },
  {
   "cell_type": "code",
   "execution_count": 208,
   "metadata": {},
   "outputs": [
    {
     "data": {
      "text/html": [
       "<div>\n",
       "<style scoped>\n",
       "    .dataframe tbody tr th:only-of-type {\n",
       "        vertical-align: middle;\n",
       "    }\n",
       "\n",
       "    .dataframe tbody tr th {\n",
       "        vertical-align: top;\n",
       "    }\n",
       "\n",
       "    .dataframe thead th {\n",
       "        text-align: right;\n",
       "    }\n",
       "</style>\n",
       "<table border=\"1\" class=\"dataframe\">\n",
       "  <thead>\n",
       "    <tr style=\"text-align: right;\">\n",
       "      <th></th>\n",
       "      <th>genre</th>\n",
       "      <th>History</th>\n",
       "      <th>Western</th>\n",
       "      <th>Drama</th>\n",
       "      <th>Biography</th>\n",
       "      <th>Talk-Show</th>\n",
       "      <th>War</th>\n",
       "      <th>Romance</th>\n",
       "      <th>Music</th>\n",
       "      <th>Comedy</th>\n",
       "      <th>...</th>\n",
       "      <th>News</th>\n",
       "      <th>Thriller</th>\n",
       "      <th>Film-Noir</th>\n",
       "      <th>Short</th>\n",
       "      <th>Adventure</th>\n",
       "      <th>Fantasy</th>\n",
       "      <th>Crime</th>\n",
       "      <th>Mystery</th>\n",
       "      <th>Documentary</th>\n",
       "      <th>Sport</th>\n",
       "    </tr>\n",
       "  </thead>\n",
       "  <tbody>\n",
       "    <tr>\n",
       "      <th>12648</th>\n",
       "      <td>Action|Crime|Horror|Mystery|Thriller</td>\n",
       "      <td>0</td>\n",
       "      <td>0</td>\n",
       "      <td>0</td>\n",
       "      <td>0</td>\n",
       "      <td>0</td>\n",
       "      <td>0</td>\n",
       "      <td>0</td>\n",
       "      <td>0</td>\n",
       "      <td>0</td>\n",
       "      <td>...</td>\n",
       "      <td>0</td>\n",
       "      <td>1</td>\n",
       "      <td>0</td>\n",
       "      <td>0</td>\n",
       "      <td>0</td>\n",
       "      <td>0</td>\n",
       "      <td>1</td>\n",
       "      <td>1</td>\n",
       "      <td>0</td>\n",
       "      <td>0</td>\n",
       "    </tr>\n",
       "    <tr>\n",
       "      <th>5479</th>\n",
       "      <td>Horror|Mystery|Thriller</td>\n",
       "      <td>0</td>\n",
       "      <td>0</td>\n",
       "      <td>0</td>\n",
       "      <td>0</td>\n",
       "      <td>0</td>\n",
       "      <td>0</td>\n",
       "      <td>0</td>\n",
       "      <td>0</td>\n",
       "      <td>0</td>\n",
       "      <td>...</td>\n",
       "      <td>0</td>\n",
       "      <td>1</td>\n",
       "      <td>0</td>\n",
       "      <td>0</td>\n",
       "      <td>0</td>\n",
       "      <td>0</td>\n",
       "      <td>0</td>\n",
       "      <td>1</td>\n",
       "      <td>0</td>\n",
       "      <td>0</td>\n",
       "    </tr>\n",
       "    <tr>\n",
       "      <th>5826</th>\n",
       "      <td>Horror|Sci-Fi</td>\n",
       "      <td>0</td>\n",
       "      <td>0</td>\n",
       "      <td>0</td>\n",
       "      <td>0</td>\n",
       "      <td>0</td>\n",
       "      <td>0</td>\n",
       "      <td>0</td>\n",
       "      <td>0</td>\n",
       "      <td>0</td>\n",
       "      <td>...</td>\n",
       "      <td>0</td>\n",
       "      <td>0</td>\n",
       "      <td>0</td>\n",
       "      <td>0</td>\n",
       "      <td>0</td>\n",
       "      <td>0</td>\n",
       "      <td>0</td>\n",
       "      <td>0</td>\n",
       "      <td>0</td>\n",
       "      <td>0</td>\n",
       "    </tr>\n",
       "    <tr>\n",
       "      <th>15079</th>\n",
       "      <td>Documentary</td>\n",
       "      <td>0</td>\n",
       "      <td>0</td>\n",
       "      <td>0</td>\n",
       "      <td>0</td>\n",
       "      <td>0</td>\n",
       "      <td>0</td>\n",
       "      <td>0</td>\n",
       "      <td>0</td>\n",
       "      <td>0</td>\n",
       "      <td>...</td>\n",
       "      <td>0</td>\n",
       "      <td>0</td>\n",
       "      <td>0</td>\n",
       "      <td>0</td>\n",
       "      <td>0</td>\n",
       "      <td>0</td>\n",
       "      <td>0</td>\n",
       "      <td>0</td>\n",
       "      <td>1</td>\n",
       "      <td>0</td>\n",
       "    </tr>\n",
       "    <tr>\n",
       "      <th>30616</th>\n",
       "      <td>Drama</td>\n",
       "      <td>0</td>\n",
       "      <td>0</td>\n",
       "      <td>1</td>\n",
       "      <td>0</td>\n",
       "      <td>0</td>\n",
       "      <td>0</td>\n",
       "      <td>0</td>\n",
       "      <td>0</td>\n",
       "      <td>0</td>\n",
       "      <td>...</td>\n",
       "      <td>0</td>\n",
       "      <td>0</td>\n",
       "      <td>0</td>\n",
       "      <td>0</td>\n",
       "      <td>0</td>\n",
       "      <td>0</td>\n",
       "      <td>0</td>\n",
       "      <td>0</td>\n",
       "      <td>0</td>\n",
       "      <td>0</td>\n",
       "    </tr>\n",
       "  </tbody>\n",
       "</table>\n",
       "<p>5 rows × 29 columns</p>\n",
       "</div>"
      ],
      "text/plain": [
       "                                      genre  History  Western  Drama  \\\n",
       "12648  Action|Crime|Horror|Mystery|Thriller        0        0      0   \n",
       "5479                Horror|Mystery|Thriller        0        0      0   \n",
       "5826                          Horror|Sci-Fi        0        0      0   \n",
       "15079                           Documentary        0        0      0   \n",
       "30616                                 Drama        0        0      1   \n",
       "\n",
       "       Biography  Talk-Show  War  Romance  Music  Comedy  ...  News  Thriller  \\\n",
       "12648          0          0    0        0      0       0  ...     0         1   \n",
       "5479           0          0    0        0      0       0  ...     0         1   \n",
       "5826           0          0    0        0      0       0  ...     0         0   \n",
       "15079          0          0    0        0      0       0  ...     0         0   \n",
       "30616          0          0    0        0      0       0  ...     0         0   \n",
       "\n",
       "       Film-Noir  Short  Adventure  Fantasy  Crime  Mystery  Documentary  \\\n",
       "12648          0      0          0        0      1        1            0   \n",
       "5479           0      0          0        0      0        1            0   \n",
       "5826           0      0          0        0      0        0            0   \n",
       "15079          0      0          0        0      0        0            1   \n",
       "30616          0      0          0        0      0        0            0   \n",
       "\n",
       "       Sport  \n",
       "12648      0  \n",
       "5479       0  \n",
       "5826       0  \n",
       "15079      0  \n",
       "30616      0  \n",
       "\n",
       "[5 rows x 29 columns]"
      ]
     },
     "execution_count": 208,
     "metadata": {},
     "output_type": "execute_result"
    }
   ],
   "source": [
    "# Confirm changes\n",
    "pd.options.display.max_rows = 100\n",
    "pd.concat([movies['genre'], movies.iloc[:, -28:]], axis=1).sample(5)"
   ]
  },
  {
   "cell_type": "markdown",
   "metadata": {},
   "source": [
    "### `reviews` Create a date out of time stamp"
   ]
  },
  {
   "cell_type": "code",
   "execution_count": 219,
   "metadata": {},
   "outputs": [
    {
     "data": {
      "text/plain": [
       "'2013-10-06 05:00:50'"
      ]
     },
     "execution_count": 219,
     "metadata": {},
     "output_type": "execute_result"
    }
   ],
   "source": [
    "datetime.datetime.fromtimestamp(int(reviews.timestamp[0])).strftime('%Y-%m-%d %H:%M:%S')"
   ]
  },
  {
   "cell_type": "code",
   "execution_count": 220,
   "metadata": {},
   "outputs": [],
   "source": [
    "# Use lambda function to convert each row\n",
    "date_format = '%Y-%m-%d %H:%M:%S'\n",
    "date_convert = lambda timestamp: (datetime.datetime\n",
    "                                  .fromtimestamp(int(timestamp))\n",
    "                                  .strftime(date_format))"
   ]
  },
  {
   "cell_type": "code",
   "execution_count": 222,
   "metadata": {},
   "outputs": [],
   "source": [
    "# Convert timestamp --> date (str)\n",
    "reviews['date'] = reviews.timestamp.apply(date_convert)"
   ]
  },
  {
   "cell_type": "code",
   "execution_count": 223,
   "metadata": {},
   "outputs": [
    {
     "data": {
      "text/html": [
       "<div>\n",
       "<style scoped>\n",
       "    .dataframe tbody tr th:only-of-type {\n",
       "        vertical-align: middle;\n",
       "    }\n",
       "\n",
       "    .dataframe tbody tr th {\n",
       "        vertical-align: top;\n",
       "    }\n",
       "\n",
       "    .dataframe thead th {\n",
       "        text-align: right;\n",
       "    }\n",
       "</style>\n",
       "<table border=\"1\" class=\"dataframe\">\n",
       "  <thead>\n",
       "    <tr style=\"text-align: right;\">\n",
       "      <th></th>\n",
       "      <th>user_id</th>\n",
       "      <th>movie_id</th>\n",
       "      <th>rating</th>\n",
       "      <th>timestamp</th>\n",
       "      <th>date</th>\n",
       "    </tr>\n",
       "  </thead>\n",
       "  <tbody>\n",
       "    <tr>\n",
       "      <th>0</th>\n",
       "      <td>1</td>\n",
       "      <td>0114508</td>\n",
       "      <td>8</td>\n",
       "      <td>1381006850</td>\n",
       "      <td>2013-10-06 05:00:50</td>\n",
       "    </tr>\n",
       "    <tr>\n",
       "      <th>1</th>\n",
       "      <td>2</td>\n",
       "      <td>0208092</td>\n",
       "      <td>5</td>\n",
       "      <td>1586466072</td>\n",
       "      <td>2020-04-10 05:01:12</td>\n",
       "    </tr>\n",
       "    <tr>\n",
       "      <th>2</th>\n",
       "      <td>2</td>\n",
       "      <td>0358273</td>\n",
       "      <td>9</td>\n",
       "      <td>1579057827</td>\n",
       "      <td>2020-01-15 11:10:27</td>\n",
       "    </tr>\n",
       "    <tr>\n",
       "      <th>3</th>\n",
       "      <td>2</td>\n",
       "      <td>10039344</td>\n",
       "      <td>5</td>\n",
       "      <td>1578603053</td>\n",
       "      <td>2020-01-10 04:50:53</td>\n",
       "    </tr>\n",
       "    <tr>\n",
       "      <th>4</th>\n",
       "      <td>2</td>\n",
       "      <td>6751668</td>\n",
       "      <td>9</td>\n",
       "      <td>1578955697</td>\n",
       "      <td>2020-01-14 06:48:17</td>\n",
       "    </tr>\n",
       "  </tbody>\n",
       "</table>\n",
       "</div>"
      ],
      "text/plain": [
       "  user_id  movie_id  rating   timestamp                 date\n",
       "0       1   0114508       8  1381006850  2013-10-06 05:00:50\n",
       "1       2   0208092       5  1586466072  2020-04-10 05:01:12\n",
       "2       2   0358273       9  1579057827  2020-01-15 11:10:27\n",
       "3       2  10039344       5  1578603053  2020-01-10 04:50:53\n",
       "4       2   6751668       9  1578955697  2020-01-14 06:48:17"
      ]
     },
     "execution_count": 223,
     "metadata": {},
     "output_type": "execute_result"
    }
   ],
   "source": [
    "# Confirm changes\n",
    "reviews.head()"
   ]
  },
  {
   "cell_type": "code",
   "execution_count": 225,
   "metadata": {},
   "outputs": [],
   "source": [
    "reviews.to_csv('./reviews_clean.csv')\n",
    "movies.to_csv('./movies_clean.csv')"
   ]
  }
 ],
 "metadata": {
  "kernelspec": {
   "display_name": "Python 3",
   "language": "python",
   "name": "python3"
  },
  "language_info": {
   "codemirror_mode": {
    "name": "ipython",
    "version": 3
   },
   "file_extension": ".py",
   "mimetype": "text/x-python",
   "name": "python",
   "nbconvert_exporter": "python",
   "pygments_lexer": "ipython3",
   "version": "3.8.5"
  }
 },
 "nbformat": 4,
 "nbformat_minor": 2
}
