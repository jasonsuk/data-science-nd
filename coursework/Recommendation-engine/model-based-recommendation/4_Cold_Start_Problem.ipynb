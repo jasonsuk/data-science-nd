{
 "cells": [
  {
   "cell_type": "markdown",
   "metadata": {},
   "source": [
    "## Cold Start Problem\n",
    "\n",
    "In the previous notebook, you learned about the **Cold Start Problem** first hand. In cases where you are introduced to a new user or new movie, collaborative flitering is not helpful as a technique to make predictions.\n",
    "\n",
    "Instead, you will need to use one of the techniques from the previous lesson like content based recommendations for new items or rank based recommendations for new users.  \n",
    "\n",
    "As a final step to completing out our recommendation system, we will build in these edge cases. Run the cell below to get started.\n",
    "\n",
    "### Matrix Factorization - Collaborative Filtering Where Possible\n",
    "\n",
    "Notice the following information is available by running the below cell:\n",
    "\n",
    "`1.` **reviews** - a dataframe of reviews\n",
    "\n",
    "`2.` **movies** - a dataframe of movies\n",
    "\n",
    "`3.` **create_train_test** - a function for creating the training and validation datasets\n",
    "\n",
    "`4.` **predict_rating** - a function that takes a user and movie and gives a prediction using FunkSVD\n",
    "\n",
    "`5.` **train_df** and **val_df** - the training and test datasets used in the previous notebook\n",
    "\n",
    "`6.` **user_mat** and **movie_mat** - the u and v matrices from FunkSVD\n",
    "\n",
    "`7.` **train_data_df** - a user-movie matrix with ratings where available.  FunkSVD was performed on this matrix"
   ]
  },
  {
   "cell_type": "code",
   "execution_count": 1,
   "metadata": {},
   "outputs": [],
   "source": [
    "import numpy as np\n",
    "import pandas as pd\n",
    "import matplotlib.pyplot as plt\n",
    "import seaborn as sns\n",
    "%matplotlib inline\n",
    "import pickle\n",
    "\n",
    "# Read in the datasets\n",
    "movies = pd.read_csv('data/movies_clean.csv')\n",
    "reviews = pd.read_csv('data/reviews_clean.csv')\n",
    "\n",
    "del movies['Unnamed: 0']\n",
    "del reviews['Unnamed: 0']\n",
    "\n",
    "def create_train_test(reviews, order_by, training_size, testing_size):\n",
    "    '''    \n",
    "    INPUT:\n",
    "    reviews - (pandas df) dataframe to split into train and test\n",
    "    order_by - (string) column name to sort by\n",
    "    training_size - (int) number of rows in training set\n",
    "    testing_size - (int) number of columns in the test set\n",
    "    \n",
    "    OUTPUT:\n",
    "    training_df -  (pandas df) dataframe of the training set\n",
    "    validation_df - (pandas df) dataframe of the test set\n",
    "    '''\n",
    "    reviews_new = reviews.sort_values(order_by)\n",
    "    training_df = reviews_new.head(training_size)\n",
    "    validation_df = reviews_new.iloc[training_size:training_size+testing_size]\n",
    "    \n",
    "    return training_df, validation_df\n",
    "\n",
    "def predict_rating(user_matrix, movie_matrix, user_id, movie_id):\n",
    "    '''\n",
    "    INPUT:\n",
    "    user_matrix - user by latent factor matrix\n",
    "    movie_matrix - latent factor by movie matrix\n",
    "    user_id - the user_id from the reviews df\n",
    "    movie_id - the movie_id according the movies df\n",
    "    \n",
    "    OUTPUT:\n",
    "    pred - the predicted rating for user_id-movie_id according to FunkSVD\n",
    "    '''\n",
    "    # Create series of users and movies in the right order\n",
    "    user_ids_series = np.array(train_data_df.index)\n",
    "    movie_ids_series = np.array(train_data_df.columns)\n",
    "    \n",
    "    # User row and Movie Column\n",
    "    user_row = np.where(user_ids_series == user_id)[0][0]\n",
    "    movie_col = np.where(movie_ids_series == movie_id)[0][0]\n",
    "    \n",
    "    # Take dot product of that row and column in U and V to make prediction\n",
    "    pred = np.dot(user_matrix[user_row, :], movie_matrix[:, movie_col])\n",
    "    \n",
    "    return pred\n",
    "\n",
    "# Use our function to create training and test datasets\n",
    "train_df, val_df = create_train_test(reviews, 'date', 8000, 2000)\n",
    "\n",
    "# Create user-by-item matrix - this will keep track of order of users and movies in u and v\n",
    "train_user_item = train_df[['user_id', 'movie_id', 'rating', 'timestamp']]\n",
    "train_data_df = train_user_item.groupby(['user_id', 'movie_id'])['rating'].max().unstack()\n",
    "train_data_np = np.array(train_data_df)\n",
    "\n",
    "# Read in user and movie matrices\n",
    "user_file = open(\"user_matrix\", 'rb')\n",
    "user_mat = pickle.load(user_file)\n",
    "user_file.close()\n",
    "\n",
    "movie_file = open(\"movie_matrix\", 'rb')\n",
    "movie_mat = pickle.load(movie_file)\n",
    "movie_file.close()"
   ]
  },
  {
   "cell_type": "markdown",
   "metadata": {},
   "source": [
    "### Validating Predictions\n",
    "\n",
    "Unfortunately, you weren't able to make predictions on every user-movie combination in the test set, as some of these users or movies were new.  \n",
    "\n",
    "However, you can validate your predictions for the user-movie pairs that do exist in the user_mat and movie_mat matrices.  \n",
    "\n",
    "`1.` Complete the function below to see how far off we were on average across all of the predicted ratings."
   ]
  },
  {
   "cell_type": "code",
   "execution_count": 2,
   "metadata": {},
   "outputs": [],
   "source": [
    "def validation_comparison(val_df, user_mat=user_mat, movie_mat=movie_mat):\n",
    "    '''\n",
    "    INPUT:\n",
    "    val_df - the validation dataset created in the third cell above\n",
    "    user_mat - U matrix in FunkSVD\n",
    "    movie_mat - V matrix in FunkSVD\n",
    "        \n",
    "    OUTPUT:\n",
    "    rmse - RMSE of how far off each value is from it's predicted value\n",
    "    perc_rated - percent of predictions out of all possible that could be rated\n",
    "    actual_v_pred - a 10 x 10 grid with counts for actual vs predicted values\n",
    "    preds - (list) predictions for any user-movie pairs where it was possible to make a prediction\n",
    "    acts - (list) actual values for any user-movie pairs where it was possible to make a prediction\n",
    "    '''\n",
    "    \n",
    "    # Get data from val_df\n",
    "    val_users = np.array(val_df['user_id'])\n",
    "    val_movies = np.array(val_df['movie_id'])\n",
    "    val_ratings = np.array(val_df['rating'])\n",
    "    \n",
    "    # Instantiate matrics     \n",
    "    num_rated = 0\n",
    "    sse = 0\n",
    "    preds, acts = [], []\n",
    "    actual_v_pred = np.zeros((10,10))\n",
    "    \n",
    "    # Compute \n",
    "    for idx in range(len(val_users)):   \n",
    "        \n",
    "        # Validation w/ existing users only      \n",
    "        try:\n",
    "            \n",
    "            # Prediction and actual         \n",
    "            pred = predict_rating(user_mat, movie_mat, val_users[idx], val_movies[idx])\n",
    "            act = val_ratings[idx]\n",
    "            \n",
    "            # Get prediction error\n",
    "            diff = act - pred\n",
    "            sse += diff ** 2\n",
    "                        \n",
    "            # Compute for actual_v_pred counter\n",
    "            actual_v_pred[11-int(act-1), int(round(pred)-1)] += 1\n",
    "\n",
    "            # Count number rated\n",
    "            num_rated += 1\n",
    "            \n",
    "            # Append prediction and actual values to respective list\n",
    "            preds.append(pred)\n",
    "            acts.append(act)\n",
    "                \n",
    "        except:\n",
    "            continue\n",
    "        \n",
    "    rmse = np.sqrt(sse / num_rated)\n",
    "    perc_rated = num_rated / len(val_users)\n",
    "\n",
    "    return rmse, perc_rated, actual_v_pred, preds, acts"
   ]
  },
  {
   "cell_type": "code",
   "execution_count": 3,
   "metadata": {
    "scrolled": false
   },
   "outputs": [
    {
     "name": "stdout",
     "output_type": "stream",
     "text": [
      "rmse: 2.0984414034910075\n",
      "Percentage rated: 0.457\n"
     ]
    }
   ],
   "source": [
    "# How well did we do? \n",
    "rmse, perc_rated, actual_v_pred, preds, acts = validation_comparison(val_df)\n",
    "\n",
    "print(f'rmse: {rmse}')\n",
    "print(f'Percentage rated: {perc_rated}')"
   ]
  },
  {
   "cell_type": "code",
   "execution_count": 4,
   "metadata": {},
   "outputs": [
    {
     "data": {
      "image/png": "[encoded data removed]",
      "text/plain": [
       "<matplotlib.figure.Figure at 0x7f6c48188828>"
      ]
     },
     "metadata": {
      "needs_background": "light"
     },
     "output_type": "display_data"
    }
   ],
   "source": [
    "# Make some plots and calculate some statistics to \n",
    "# understand how well this technique is working\n",
    "\n",
    "fig, (ax1, ax2) = plt.subplots(1, 2, figsize=(12,4))\n",
    "\n",
    "vis1 = sns.heatmap(actual_v_pred, cmap='rocket_r', ax=ax1);\n",
    "\n",
    "ratings = np.arange(0, 11, 1)\n",
    "plt.hist(acts, bins=ratings, alpha=0.6, label='Actual')\n",
    "plt.hist(preds, bins=ratings, alpha=0.4, label='Prediction')\n",
    "plt.xlabel('Ratings')\n",
    "plt.title('Distribution for Actual vs Prediction')\n",
    "\n",
    "vis1.set(xlabel='Predicted rating', ylabel='Actual rating',\n",
    "       title='Actual vs Predicted values')\n",
    "\n",
    "plt.legend()\n",
    "plt.show()"
   ]
  },
  {
   "cell_type": "markdown",
   "metadata": {},
   "source": [
    "`2.` We didn't do so bad on making those predictions!  But, how many user-movie pairs were we unable to make predictions for?  Use the cell below to answer this question."
   ]
  },
  {
   "cell_type": "code",
   "execution_count": 5,
   "metadata": {},
   "outputs": [
    {
     "name": "stdout",
     "output_type": "stream",
     "text": [
      "Number not rated: 1085\n",
      "Number rated: 914\n"
     ]
    }
   ],
   "source": [
    "# From the above, this can be calculated as follows:\n",
    "print(\"Number not rated: {}\".format(int(len(val_df['rating'])*(1-perc_rated))))\n",
    "print(\"Number rated: {}\".format(int(len(val_df['rating'])*perc_rated)))"
   ]
  },
  {
   "cell_type": "markdown",
   "metadata": {},
   "source": [
    "### Content Based For New Movies\n",
    "\n",
    "If all of the above went well, you will notice we still have work to do!  We need to bring in a few things we picked up from the last lesson to use for those new users and movies.  Below is the code used to make the content based recommendations, which found movies that were similar to one another.  This was from **5_Content_Based_Recommendations** in the previous lesson.\n",
    "\n",
    "The below function **find_similar_movies** will provide similar movies to any movie based only on content.  \n",
    "\n",
    "Run the cell below to gain access to the content based similarity functions."
   ]
  },
  {
   "cell_type": "code",
   "execution_count": 6,
   "metadata": {},
   "outputs": [],
   "source": [
    "# Subset so movie_content is only using the dummy variables for each genre and the 3 century based year dummy columns\n",
    "movie_content = np.array(movies.iloc[:,4:])\n",
    "\n",
    "# Take the dot product to obtain a movie x movie matrix of similarities\n",
    "dot_prod_movies = movie_content.dot(np.transpose(movie_content))"
   ]
  },
  {
   "cell_type": "code",
   "execution_count": 7,
   "metadata": {},
   "outputs": [],
   "source": [
    "def find_similar_movies(movie_id):\n",
    "    '''\n",
    "    INPUT\n",
    "    movie_id - a movie_id \n",
    "    OUTPUT\n",
    "    similar_movies - an array of the most similar movies by title\n",
    "    '''\n",
    "    # find the row of each movie id\n",
    "    movie_idx = np.where(movies['movie_id'] == movie_id)[0][0]\n",
    "    \n",
    "    # find the most similar movie indices - to start I said they need to be the same for all content\n",
    "    similar_idxs = np.where(dot_prod_movies[0] == dot_prod_movies[0].max())[0]\n",
    "    \n",
    "    # pull the movie titles based on the indices\n",
    "    similar_movies = np.array(movies.iloc[similar_idxs, ]['movie'])\n",
    "    \n",
    "    return similar_movies\n",
    "    \n",
    "    \n",
    "def get_movie_names(movie_ids):\n",
    "    '''\n",
    "    INPUT\n",
    "    movie_ids - a list of movie_ids\n",
    "    OUTPUT\n",
    "    movies - a list of movie names associated with the movie_ids\n",
    "    \n",
    "    '''\n",
    "    movie_lst = list(movies[movies['movie_id'].isin(movie_ids)]['movie'])\n",
    "   \n",
    "    return movie_lst"
   ]
  },
  {
   "cell_type": "markdown",
   "metadata": {},
   "source": [
    "### Rank Based For New Users\n",
    "\n",
    "From the above two code cells, we have a way to make recommendations for movie-user pairs that have ratings in any part of our user-movie matrix.  We also have a way to make ratings for movies that have never received a rating using movie similarities.\n",
    "\n",
    "In this last part here, we need a way to make recommendations to new users.  For this, our functions from **2_Most_Popular_Recommendations** in Lesson 1 will come in handy.  Run the cell below to have these functions available.\n",
    "\n",
    "Run the cell below to gain access to the rank based functions."
   ]
  },
  {
   "cell_type": "code",
   "execution_count": 8,
   "metadata": {},
   "outputs": [],
   "source": [
    "def create_ranked_df(movies, reviews):\n",
    "        '''\n",
    "        INPUT\n",
    "        movies - the movies dataframe\n",
    "        reviews - the reviews dataframe\n",
    "        \n",
    "        OUTPUT\n",
    "        ranked_movies - a dataframe with movies that are sorted by highest avg rating, more reviews, \n",
    "                        then time, and must have more than 4 ratings\n",
    "        '''\n",
    "        \n",
    "        # Pull the average ratings and number of ratings for each movie\n",
    "        movie_ratings = reviews.groupby('movie_id')['rating']\n",
    "        avg_ratings = movie_ratings.mean()\n",
    "        num_ratings = movie_ratings.count()\n",
    "        last_rating = pd.DataFrame(reviews.groupby('movie_id').max()['date'])\n",
    "        last_rating.columns = ['last_rating']\n",
    "\n",
    "        # Add Dates\n",
    "        rating_count_df = pd.DataFrame({'avg_rating': avg_ratings, 'num_ratings': num_ratings})\n",
    "        rating_count_df = rating_count_df.join(last_rating)\n",
    "\n",
    "        # merge with the movies dataset\n",
    "        movie_recs = movies.set_index('movie_id').join(rating_count_df)\n",
    "\n",
    "        # sort by top avg rating and number of ratings\n",
    "        ranked_movies = movie_recs.sort_values(['avg_rating', 'num_ratings', 'last_rating'], ascending=False)\n",
    "\n",
    "        # for edge cases - subset the movie list to those with only 5 or more reviews\n",
    "        ranked_movies = ranked_movies[ranked_movies['num_ratings'] > 4]\n",
    "        \n",
    "        return ranked_movies\n",
    "    \n",
    "\n",
    "def popular_recommendations(user_id, n_top, ranked_movies):\n",
    "    '''\n",
    "    INPUT:\n",
    "    user_id - the user_id (str) of the individual you are making recommendations for\n",
    "    n_top - an integer of the number recommendations you want back\n",
    "    ranked_movies - a pandas dataframe of the already ranked movies based on avg rating, count, and time\n",
    "\n",
    "    OUTPUT:\n",
    "    top_movies - a list of the n_top recommended movies by movie title in order best to worst\n",
    "    '''\n",
    "\n",
    "    top_movies = list(ranked_movies['movie'][:n_top])\n",
    "\n",
    "    return top_movies\n",
    "        "
   ]
  },
  {
   "cell_type": "markdown",
   "metadata": {},
   "source": [
    "## Now For Your Task\n",
    "\n",
    "The above cells set up everything we need to use to make predictions.  Your task is to write a function, which uses the above information as necessary to provide recommendations for every user in the **val_df** dataframe.  There isn't one right way to do this, but using a blend between the three could be your best bet.  \n",
    "\n",
    "You can see the blended approach I used in the video on the next page, but feel free to be creative with your solution!\n",
    "\n",
    "`3.` Use the function below along with the document strings to assist with completing the task for this notebook.  "
   ]
  },
  {
   "cell_type": "code",
   "execution_count": 9,
   "metadata": {
    "scrolled": true
   },
   "outputs": [
    {
     "data": {
      "text/plain": [
       "((3278, 15), (15, 2679), (3278, 2679))"
      ]
     },
     "execution_count": 9,
     "metadata": {},
     "output_type": "execute_result"
    }
   ],
   "source": [
    "# List from the existing users & movies\n",
    "user_mat.shape, movie_mat.shape, train_data_df.shape"
   ]
  },
  {
   "cell_type": "markdown",
   "metadata": {},
   "source": [
    "### Function for recommendation using knowledge based and content based only"
   ]
  },
  {
   "cell_type": "code",
   "execution_count": 115,
   "metadata": {},
   "outputs": [],
   "source": [
    "# Helper function\n",
    "def popular_recommendation_handler(all_users, movies, train_df, rec_num):\n",
    "      \n",
    "    print('The id is not in our database.')       \n",
    "    print('Therefore, I will print the most popular movies based on your user_id')\n",
    "    print('Loading database...')\n",
    "        \n",
    "    user_id = int(input('Please enter user_id: '))\n",
    "\n",
    "    while (not user_id) or (user_id not in all_users):\n",
    "        print('Invalid id')\n",
    "        user_id = int(input('Please enter user_id: '))\n",
    "        \n",
    "    return popular_recommendations(user_id, rec_num, ranked_movies)\n",
    "            \n",
    "    \n",
    "def make_recommendations(_id, _id_type='movie', train_data=train_data_df, train_df=train_df, \n",
    "                         movies=movies, rec_num=5, user_mat=user_mat, movie_mat=movie_mat):\n",
    "    '''\n",
    "    INPUT:\n",
    "    _id - either a user or movie id (int)\n",
    "    _id_type - \"movie\" or \"user\" (str)\n",
    "    train_data - dataframe of data as user-movie matrix\n",
    "    train_df - dataframe of training data reviews\n",
    "    movies - movies df\n",
    "    rec_num - number of recommendations to return (int)\n",
    "    user_mat - the U matrix of matrix factorization\n",
    "    movie_mat - the V matrix of matrix factorization\n",
    "    \n",
    "    OUTPUT:\n",
    "    rec_ids - (array) a list or numpy array of recommended movies by id                  \n",
    "    rec_names - (array) a list or numpy array of recommended movies by name\n",
    "    '''\n",
    "    \n",
    "    all_users = np.array(train_data_df.index)\n",
    "    all_movies = np.array(train_data_df.columns)\n",
    "        \n",
    "    rec_ids = []\n",
    "    rec_names = []\n",
    "    \n",
    "    print('Loading...')\n",
    "    ranked_movies = create_ranked_df(movies, train_df)\n",
    "    \n",
    "    if _id_type == 'movie':\n",
    "    \n",
    "        if _id in all_movies:\n",
    "            rec_names = list(find_similar_movies(_id))[:rec_num]\n",
    "                        \n",
    "        else:\n",
    "            rec_names = popular_recommendation_handler(all_users, movies, train_df, rec_num)\n",
    "                            \n",
    "    elif _id_type == 'user':\n",
    "        \n",
    "        if _id in all_users:\n",
    "            rec_names = popular_recommendations(_id, rec_num, ranked_movies)\n",
    "            \n",
    "        else:\n",
    "            rec_names = popular_recommendation_handler(all_users, movies, train_df, rec_num)\n",
    "        \n",
    "    else: \n",
    "        print('Invalid _id_type')\n",
    "        \n",
    "    \n",
    "    if rec_names:\n",
    "        for name in rec_names:\n",
    "            movie_id = movies[movies['movie']==name]['movie_id'].values[0]\n",
    "            rec_ids.append(movie_id)\n",
    "            \n",
    "            \n",
    "    return rec_ids, rec_names"
   ]
  },
  {
   "cell_type": "code",
   "execution_count": 63,
   "metadata": {
    "scrolled": false
   },
   "outputs": [
    {
     "data": {
      "text/plain": [
       "([8, 10, 12, 154152, 392728],\n",
       " ['Edison Kinetoscopic Record of a Sneeze (1894)',\n",
       "  'La sortie des usines Lumière (1895)',\n",
       "  'The Arrival of a Train (1896)',\n",
       "  'Annabelle Serpentine Dance (1895)',\n",
       "  'Roundhay Garden Scene (1888)'])"
      ]
     },
     "execution_count": 63,
     "metadata": {},
     "output_type": "execute_result"
    }
   ],
   "source": [
    "# Recommend by correct movie id\n",
    "make_recommendations(13427)"
   ]
  },
  {
   "cell_type": "code",
   "execution_count": 64,
   "metadata": {
    "scrolled": false
   },
   "outputs": [
    {
     "name": "stdout",
     "output_type": "stream",
     "text": [
      "The id is not in our database.\n",
      "Therefore, I will print the most popular movies based on your user_id\n",
      "Loading database...\n",
      "Please enter user_id: 1\n",
      "Invalid id\n",
      "Please enter user_id: 8\n"
     ]
    },
    {
     "data": {
      "text/plain": [
       "([99685, 838283, 169547, 469494, 1205489],\n",
       " ['Goodfellas (1990)',\n",
       "  'Step Brothers (2008)',\n",
       "  'American Beauty (1999)',\n",
       "  'There Will Be Blood (2007)',\n",
       "  'Gran Torino (2008)'])"
      ]
     },
     "execution_count": 64,
     "metadata": {},
     "output_type": "execute_result"
    }
   ],
   "source": [
    "# Recommend by incorrect movie id\n",
    "make_recommendations(1)"
   ]
  },
  {
   "cell_type": "code",
   "execution_count": 66,
   "metadata": {
    "scrolled": true
   },
   "outputs": [
    {
     "name": "stdout",
     "output_type": "stream",
     "text": [
      "The id is not in our database.\n",
      "Therefore, I will print the most popular movies based on your user_id\n",
      "Loading database...\n",
      "Please enter user_id: 2\n",
      "Invalid id\n",
      "Please enter user_id: 8\n"
     ]
    },
    {
     "data": {
      "text/plain": [
       "([99685, 838283, 169547, 469494, 1205489],\n",
       " ['Goodfellas (1990)',\n",
       "  'Step Brothers (2008)',\n",
       "  'American Beauty (1999)',\n",
       "  'There Will Be Blood (2007)',\n",
       "  'Gran Torino (2008)'])"
      ]
     },
     "execution_count": 66,
     "metadata": {},
     "output_type": "execute_result"
    }
   ],
   "source": [
    "# Recommend by incorrect user id\n",
    "make_recommendations(1, _id_type='user')"
   ]
  },
  {
   "cell_type": "markdown",
   "metadata": {},
   "source": [
    "### Improving the above function using FunkSVD\n",
    "The above function does not use FunkSVD at all, and prints out popular movies only when recommending by user. It is not customized at all as `popular_recommendations` functions actually prints out recommendations regardless of user_id."
   ]
  },
  {
   "cell_type": "markdown",
   "metadata": {},
   "source": [
    "This time let's focus on user-based approach using FunkSVD\n",
    "- If user --> FunkSVD\n",
    "- If not user --> knowledge-based (popular movies)\n",
    "- If movie --> content-based (find similar movies)"
   ]
  },
  {
   "cell_type": "code",
   "execution_count": 107,
   "metadata": {},
   "outputs": [],
   "source": [
    "def make_recommendations_v2(_id, _id_type='movie', train_data=train_data_df, train_df=train_df, \n",
    "                            movies=movies, rec_num=5, user_mat=user_mat, movie_mat=movie_mat):\n",
    "    '''\n",
    "    INPUT:\n",
    "    _id - either a user or movie id (int)\n",
    "    _id_type - \"movie\" or \"user\" (str)\n",
    "    train_data - dataframe of data as user-movie matrix\n",
    "    train_df - dataframe of training data reviews\n",
    "    movies - movies df\n",
    "    rec_num - number of recommendations to return (int)\n",
    "    user_mat - the U matrix of matrix factorization\n",
    "    movie_mat - the V matrix of matrix factorization\n",
    "    \n",
    "    OUTPUT:\n",
    "    rec_ids - (array) a list or numpy array of recommended movies by id                  \n",
    "    rec_names - (array) a list or numpy array of recommended movies by name\n",
    "    '''\n",
    "    \n",
    "    \n",
    "    all_users = np.array(train_data_df.index)\n",
    "    all_movies = np.array(train_data_df.columns)\n",
    "    \n",
    "    rec_ids = []\n",
    "    rec_names = []\n",
    "    \n",
    "    # Find by user     \n",
    "    if _id_type == 'user':\n",
    "        if _id in all_users:\n",
    "            idx = np.where(all_users == _id)[0][0]\n",
    "            \n",
    "            # Make predictions on rating\n",
    "            preds = np.dot(user_mat[idx, :], movie_mat)\n",
    "            \n",
    "            # Find the indices of highest ratings\n",
    "            # and their ids\n",
    "            rec_indices = preds.argsort()[-rec_num:][::-1]        \n",
    "            rec_ids = train_data_df.columns[rec_indices].tolist()\n",
    "            rec_names = get_movie_names(rec_ids)\n",
    "                        \n",
    "        \n",
    "        else:\n",
    "            # If id is not in database -> knowledge-based\n",
    "            print('User id not found.')\n",
    "            print('Finding alternative method for recommendation...')\n",
    "            \n",
    "            # Load data sorted by popularity, count and recent date\n",
    "            ranked_movies = create_ranked_df(movies, train_df)\n",
    "            rec_names = popular_recommendations(_id, rec_num, ranked_movies)\n",
    "            \n",
    "    \n",
    "    # Find by movie\n",
    "    else:        \n",
    "        if _id in all_movies:\n",
    "            rec_names = find_similar_movies(_id)\n",
    "        else:\n",
    "            print('Movie id not found')\n",
    "            \n",
    "            \n",
    "    if len(rec_ids) == 0:\n",
    "        for name in rec_names:\n",
    "            movie_id = movies[movies['movie']==name]['movie_id'].values[0]\n",
    "            rec_ids.append(movie_id)\n",
    "                \n",
    "    return rec_ids, rec_names"
   ]
  },
  {
   "cell_type": "code",
   "execution_count": 111,
   "metadata": {},
   "outputs": [
    {
     "data": {
      "text/plain": [
       "([92965, 838283, 1659337, 1205489, 421715],\n",
       " ['Empire of the Sun (1987)',\n",
       "  'The Curious Case of Benjamin Button (2008)',\n",
       "  'Step Brothers (2008)',\n",
       "  'Gran Torino (2008)',\n",
       "  'The Perks of Being a Wallflower (2012)'])"
      ]
     },
     "execution_count": 111,
     "metadata": {},
     "output_type": "execute_result"
    }
   ],
   "source": [
    "# Recommend by existing user id\n",
    "make_recommendations_v2(48, 'user')"
   ]
  },
  {
   "cell_type": "code",
   "execution_count": 114,
   "metadata": {},
   "outputs": [
    {
     "name": "stdout",
     "output_type": "stream",
     "text": [
      "Loading...\n"
     ]
    },
    {
     "data": {
      "text/plain": [
       "([99685, 838283, 169547, 469494, 1205489],\n",
       " ['Goodfellas (1990)',\n",
       "  'Step Brothers (2008)',\n",
       "  'American Beauty (1999)',\n",
       "  'There Will Be Blood (2007)',\n",
       "  'Gran Torino (2008)'])"
      ]
     },
     "execution_count": 114,
     "metadata": {},
     "output_type": "execute_result"
    }
   ],
   "source": [
    "# Different from the first recommendation function\n",
    "make_recommendations(48, 'user')"
   ]
  },
  {
   "cell_type": "code",
   "execution_count": 116,
   "metadata": {},
   "outputs": [
    {
     "name": "stdout",
     "output_type": "stream",
     "text": [
      "User id not found.\n",
      "Finding alternative method for recommendation...\n"
     ]
    },
    {
     "data": {
      "text/plain": [
       "([99685, 838283, 169547, 469494, 1205489],\n",
       " ['Goodfellas (1990)',\n",
       "  'Step Brothers (2008)',\n",
       "  'American Beauty (1999)',\n",
       "  'There Will Be Blood (2007)',\n",
       "  'Gran Torino (2008)'])"
      ]
     },
     "execution_count": 116,
     "metadata": {},
     "output_type": "execute_result"
    }
   ],
   "source": [
    "# Recommend by non-existing user id \n",
    "# Same result as the first recommendation function (knowledge-based)\n",
    "make_recommendations_v2(2048, 'user')"
   ]
  },
  {
   "cell_type": "code",
   "execution_count": 118,
   "metadata": {},
   "outputs": [
    {
     "data": {
      "text/plain": [
       "([8, 10, 12, 154152, 392728, 2185694],\n",
       " array(['Edison Kinetoscopic Record of a Sneeze (1894)',\n",
       "        'La sortie des usines Lumière (1895)',\n",
       "        'The Arrival of a Train (1896)',\n",
       "        'Annabelle Serpentine Dance (1895)', 'Roundhay Garden Scene (1888)',\n",
       "        'Llandudno Happy Valley and Minstrel Show (1898)'], dtype=object))"
      ]
     },
     "execution_count": 118,
     "metadata": {},
     "output_type": "execute_result"
    }
   ],
   "source": [
    "# Recommend by movie_id\n",
    "make_recommendations_v2(13427)"
   ]
  },
  {
   "cell_type": "code",
   "execution_count": 119,
   "metadata": {
    "scrolled": true
   },
   "outputs": [
    {
     "name": "stdout",
     "output_type": "stream",
     "text": [
      "Movie id not found\n"
     ]
    },
    {
     "data": {
      "text/plain": [
       "([], [])"
      ]
     },
     "execution_count": 119,
     "metadata": {},
     "output_type": "execute_result"
    }
   ],
   "source": [
    "# Recommend by movie_id when not existing\n",
    "make_recommendations_v2(10000000)"
   ]
  },
  {
   "cell_type": "code",
   "execution_count": null,
   "metadata": {},
   "outputs": [],
   "source": [
    "# Can create a dictionary with all existing user_id\n",
    "\n",
    "# Make recommendations\n",
    "# user_recs_dict_with_top = dict()\n",
    "# for user_id in set(val_df['user_id']):\n",
    "#     user_recs_dict_with_top[user_id] = make_recommendations(user_id, 'user')[1]\n",
    "\n",
    "# cnter = 0\n",
    "# for user, rec in user_recs_dict_with_top.items():\n",
    "#     if cnter < 12:\n",
    "#         print(\"For user {}, our recommendations are: \\n {}\".format(user, rec))\n",
    "#         cnter+=1\n",
    "#     else:\n",
    "#         break"
   ]
  },
  {
   "cell_type": "markdown",
   "metadata": {},
   "source": [
    "**This recommendation style looks like it may do okay with accuracy, but it seems like a lot of the same movies are showing up.  When we think back to serendipity, novelty, and diversity as means of a good recommendation system, this set of recommendations still isn't great.  We might consider providing some content based recommendations from movies an individual has watched along with these recommendations to meet those categories of a good recommender.**"
   ]
  }
 ],
 "metadata": {
  "kernelspec": {
   "display_name": "Python 3",
   "language": "python",
   "name": "python3"
  },
  "language_info": {
   "codemirror_mode": {
    "name": "ipython",
    "version": 3
   },
   "file_extension": ".py",
   "mimetype": "text/x-python",
   "name": "python",
   "nbconvert_exporter": "python",
   "pygments_lexer": "ipython3",
   "version": "3.6.3"
  }
 },
 "nbformat": 4,
 "nbformat_minor": 2
}
