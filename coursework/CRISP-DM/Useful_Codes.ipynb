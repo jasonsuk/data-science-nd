{
 "cells": [
  {
   "cell_type": "markdown",
   "metadata": {},
   "source": [
    "This notebook will archive some code snippets that are used for `Data Science Nano Degree` courses.\n",
    "\n",
    "There is no dataset included unless necessary."
   ]
  },
  {
   "cell_type": "code",
   "execution_count": 66,
   "metadata": {},
   "outputs": [],
   "source": [
    "import numpy as np\n",
    "import pandas as pd\n",
    "import matplotlib.pyplot as plt\n",
    "import seaborn as sns\n",
    "\n",
    "%matplotlib inline"
   ]
  },
  {
   "cell_type": "markdown",
   "metadata": {},
   "source": [
    "## `1` Missing values\n",
    "\n",
    "- Get a set of columns with no missing values\n",
    "- Get a set of columns with more than 75% missing values"
   ]
  },
  {
   "cell_type": "code",
   "execution_count": 63,
   "metadata": {},
   "outputs": [],
   "source": [
    "# set( df.isnull().mean()===0] )\n",
    "# set( df.isnull().mean() > 0.7 )"
   ]
  },
  {
   "cell_type": "markdown",
   "metadata": {},
   "source": [
    "## `2` Categorical variables\n",
    "A quick exploratory analysis on an individual non-numerical variable with a graph. \n",
    "\n",
    "Module required : pandas, matplotlib"
   ]
  },
  {
   "cell_type": "code",
   "execution_count": 64,
   "metadata": {},
   "outputs": [],
   "source": [
    "def visisulize_cat_var(df, col_name, title) :\n",
    "    status_vals = df[col_name].value_counts()\n",
    "    (status_vals / df.shape[0]).plot(kind='bar')\n",
    "    plt.title(title.trim().capitalize())\n",
    "    plt.show()"
   ]
  },
  {
   "cell_type": "markdown",
   "metadata": {},
   "source": [
    "## `3` Style dataframe\n",
    "[Link to the official document](https://pandas.pydata.org/pandas-docs/stable/user_guide/style.html)"
   ]
  },
  {
   "cell_type": "code",
   "execution_count": 121,
   "metadata": {},
   "outputs": [],
   "source": [
    "df = pd.DataFrame(np.random.rand(10, 2), columns=list('AB'))\n",
    "df['diff'] = df['A'] - df['B']"
   ]
  },
  {
   "cell_type": "code",
   "execution_count": 113,
   "metadata": {
    "scrolled": true
   },
   "outputs": [],
   "source": [
    "def highlight_max(s) : \n",
    "    '''\n",
    "    highlight the max of a feature in yellow\n",
    "    '''\n",
    "    is_max = s == s.max()\n",
    "    return ['background-color: yellow' if m else '' for m in is_max]"
   ]
  },
  {
   "cell_type": "code",
   "execution_count": 130,
   "metadata": {},
   "outputs": [
    {
     "data": {
      "text/html": [
       "<style  type=\"text/css\" >\n",
       "    #T_935fd8b4_3616_11eb_973e_acde48001122row0_col0 {\n",
       "            background-color:  yellow;\n",
       "        }    #T_935fd8b4_3616_11eb_973e_acde48001122row0_col2 {\n",
       "            background-color:  yellow;\n",
       "            width:  10em;\n",
       "             height:  80%;\n",
       "            background:  linear-gradient(90deg, transparent 37.3%, #5fba7d 37.3%, #5fba7d 100.0%, transparent 100.0%);\n",
       "        }    #T_935fd8b4_3616_11eb_973e_acde48001122row1_col2 {\n",
       "            : ;\n",
       "            width:  10em;\n",
       "             height:  80%;\n",
       "            background:  linear-gradient(90deg, transparent 30.6%, #d65f5f 30.6%, #d65f5f 37.3%, transparent 37.3%);\n",
       "        }    #T_935fd8b4_3616_11eb_973e_acde48001122row2_col2 {\n",
       "            : ;\n",
       "            width:  10em;\n",
       "             height:  80%;\n",
       "            background:  linear-gradient(90deg, transparent 37.3%, #5fba7d 37.3%, #5fba7d 78.1%, transparent 78.1%);\n",
       "        }    #T_935fd8b4_3616_11eb_973e_acde48001122row3_col2 {\n",
       "            : ;\n",
       "            width:  10em;\n",
       "             height:  80%;\n",
       "            background:  linear-gradient(90deg, transparent 37.3%, #5fba7d 37.3%, #5fba7d 86.1%, transparent 86.1%);\n",
       "        }    #T_935fd8b4_3616_11eb_973e_acde48001122row4_col1 {\n",
       "            background-color:  yellow;\n",
       "        }    #T_935fd8b4_3616_11eb_973e_acde48001122row4_col2 {\n",
       "            : ;\n",
       "            width:  10em;\n",
       "             height:  80%;\n",
       "            background:  linear-gradient(90deg,#d65f5f 37.3%, transparent 37.3%);\n",
       "        }    #T_935fd8b4_3616_11eb_973e_acde48001122row5_col2 {\n",
       "            : ;\n",
       "            width:  10em;\n",
       "             height:  80%;\n",
       "            background:  linear-gradient(90deg, transparent 37.3%, #5fba7d 37.3%, #5fba7d 45.0%, transparent 45.0%);\n",
       "        }    #T_935fd8b4_3616_11eb_973e_acde48001122row6_col2 {\n",
       "            : ;\n",
       "            width:  10em;\n",
       "             height:  80%;\n",
       "            background:  linear-gradient(90deg, transparent 37.3%, #5fba7d 37.3%, #5fba7d 66.0%, transparent 66.0%);\n",
       "        }    #T_935fd8b4_3616_11eb_973e_acde48001122row7_col2 {\n",
       "            : ;\n",
       "            width:  10em;\n",
       "             height:  80%;\n",
       "            background:  linear-gradient(90deg, transparent 37.3%, #5fba7d 37.3%, #5fba7d 46.6%, transparent 46.6%);\n",
       "        }    #T_935fd8b4_3616_11eb_973e_acde48001122row8_col2 {\n",
       "            : ;\n",
       "            width:  10em;\n",
       "             height:  80%;\n",
       "            background:  linear-gradient(90deg, transparent 37.3%, #5fba7d 37.3%, #5fba7d 48.4%, transparent 48.4%);\n",
       "        }    #T_935fd8b4_3616_11eb_973e_acde48001122row9_col2 {\n",
       "            : ;\n",
       "            width:  10em;\n",
       "             height:  80%;\n",
       "            background:  linear-gradient(90deg, transparent 37.3%, #5fba7d 37.3%, #5fba7d 54.2%, transparent 54.2%);\n",
       "        }</style><table id=\"T_935fd8b4_3616_11eb_973e_acde48001122\" ><thead>    <tr>        <th class=\"blank level0\" ></th>        <th class=\"col_heading level0 col0\" >A</th>        <th class=\"col_heading level0 col1\" >B</th>        <th class=\"col_heading level0 col2\" >diff</th>    </tr></thead><tbody>\n",
       "                <tr>\n",
       "                        <th id=\"T_935fd8b4_3616_11eb_973e_acde48001122level0_row0\" class=\"row_heading level0 row0\" >0</th>\n",
       "                        <td id=\"T_935fd8b4_3616_11eb_973e_acde48001122row0_col0\" class=\"data row0 col0\" >0.979899</td>\n",
       "                        <td id=\"T_935fd8b4_3616_11eb_973e_acde48001122row0_col1\" class=\"data row0 col1\" >0.259380</td>\n",
       "                        <td id=\"T_935fd8b4_3616_11eb_973e_acde48001122row0_col2\" class=\"data row0 col2\" >0.720519</td>\n",
       "            </tr>\n",
       "            <tr>\n",
       "                        <th id=\"T_935fd8b4_3616_11eb_973e_acde48001122level0_row1\" class=\"row_heading level0 row1\" >1</th>\n",
       "                        <td id=\"T_935fd8b4_3616_11eb_973e_acde48001122row1_col0\" class=\"data row1 col0\" >0.800995</td>\n",
       "                        <td id=\"T_935fd8b4_3616_11eb_973e_acde48001122row1_col1\" class=\"data row1 col1\" >0.877707</td>\n",
       "                        <td id=\"T_935fd8b4_3616_11eb_973e_acde48001122row1_col2\" class=\"data row1 col2\" >-0.076712</td>\n",
       "            </tr>\n",
       "            <tr>\n",
       "                        <th id=\"T_935fd8b4_3616_11eb_973e_acde48001122level0_row2\" class=\"row_heading level0 row2\" >2</th>\n",
       "                        <td id=\"T_935fd8b4_3616_11eb_973e_acde48001122row2_col0\" class=\"data row2 col0\" >0.517670</td>\n",
       "                        <td id=\"T_935fd8b4_3616_11eb_973e_acde48001122row2_col1\" class=\"data row2 col1\" >0.049354</td>\n",
       "                        <td id=\"T_935fd8b4_3616_11eb_973e_acde48001122row2_col2\" class=\"data row2 col2\" >0.468315</td>\n",
       "            </tr>\n",
       "            <tr>\n",
       "                        <th id=\"T_935fd8b4_3616_11eb_973e_acde48001122level0_row3\" class=\"row_heading level0 row3\" >3</th>\n",
       "                        <td id=\"T_935fd8b4_3616_11eb_973e_acde48001122row3_col0\" class=\"data row3 col0\" >0.583494</td>\n",
       "                        <td id=\"T_935fd8b4_3616_11eb_973e_acde48001122row3_col1\" class=\"data row3 col1\" >0.022730</td>\n",
       "                        <td id=\"T_935fd8b4_3616_11eb_973e_acde48001122row3_col2\" class=\"data row3 col2\" >0.560764</td>\n",
       "            </tr>\n",
       "            <tr>\n",
       "                        <th id=\"T_935fd8b4_3616_11eb_973e_acde48001122level0_row4\" class=\"row_heading level0 row4\" >4</th>\n",
       "                        <td id=\"T_935fd8b4_3616_11eb_973e_acde48001122row4_col0\" class=\"data row4 col0\" >0.449363</td>\n",
       "                        <td id=\"T_935fd8b4_3616_11eb_973e_acde48001122row4_col1\" class=\"data row4 col1\" >0.878352</td>\n",
       "                        <td id=\"T_935fd8b4_3616_11eb_973e_acde48001122row4_col2\" class=\"data row4 col2\" >-0.428989</td>\n",
       "            </tr>\n",
       "            <tr>\n",
       "                        <th id=\"T_935fd8b4_3616_11eb_973e_acde48001122level0_row5\" class=\"row_heading level0 row5\" >5</th>\n",
       "                        <td id=\"T_935fd8b4_3616_11eb_973e_acde48001122row5_col0\" class=\"data row5 col0\" >0.791032</td>\n",
       "                        <td id=\"T_935fd8b4_3616_11eb_973e_acde48001122row5_col1\" class=\"data row5 col1\" >0.702643</td>\n",
       "                        <td id=\"T_935fd8b4_3616_11eb_973e_acde48001122row5_col2\" class=\"data row5 col2\" >0.088389</td>\n",
       "            </tr>\n",
       "            <tr>\n",
       "                        <th id=\"T_935fd8b4_3616_11eb_973e_acde48001122level0_row6\" class=\"row_heading level0 row6\" >6</th>\n",
       "                        <td id=\"T_935fd8b4_3616_11eb_973e_acde48001122row6_col0\" class=\"data row6 col0\" >0.692786</td>\n",
       "                        <td id=\"T_935fd8b4_3616_11eb_973e_acde48001122row6_col1\" class=\"data row6 col1\" >0.363543</td>\n",
       "                        <td id=\"T_935fd8b4_3616_11eb_973e_acde48001122row6_col2\" class=\"data row6 col2\" >0.329243</td>\n",
       "            </tr>\n",
       "            <tr>\n",
       "                        <th id=\"T_935fd8b4_3616_11eb_973e_acde48001122level0_row7\" class=\"row_heading level0 row7\" >7</th>\n",
       "                        <td id=\"T_935fd8b4_3616_11eb_973e_acde48001122row7_col0\" class=\"data row7 col0\" >0.464714</td>\n",
       "                        <td id=\"T_935fd8b4_3616_11eb_973e_acde48001122row7_col1\" class=\"data row7 col1\" >0.357539</td>\n",
       "                        <td id=\"T_935fd8b4_3616_11eb_973e_acde48001122row7_col2\" class=\"data row7 col2\" >0.107174</td>\n",
       "            </tr>\n",
       "            <tr>\n",
       "                        <th id=\"T_935fd8b4_3616_11eb_973e_acde48001122level0_row8\" class=\"row_heading level0 row8\" >8</th>\n",
       "                        <td id=\"T_935fd8b4_3616_11eb_973e_acde48001122row8_col0\" class=\"data row8 col0\" >0.917408</td>\n",
       "                        <td id=\"T_935fd8b4_3616_11eb_973e_acde48001122row8_col1\" class=\"data row8 col1\" >0.789513</td>\n",
       "                        <td id=\"T_935fd8b4_3616_11eb_973e_acde48001122row8_col2\" class=\"data row8 col2\" >0.127894</td>\n",
       "            </tr>\n",
       "            <tr>\n",
       "                        <th id=\"T_935fd8b4_3616_11eb_973e_acde48001122level0_row9\" class=\"row_heading level0 row9\" >9</th>\n",
       "                        <td id=\"T_935fd8b4_3616_11eb_973e_acde48001122row9_col0\" class=\"data row9 col0\" >0.412712</td>\n",
       "                        <td id=\"T_935fd8b4_3616_11eb_973e_acde48001122row9_col1\" class=\"data row9 col1\" >0.218687</td>\n",
       "                        <td id=\"T_935fd8b4_3616_11eb_973e_acde48001122row9_col2\" class=\"data row9 col2\" >0.194025</td>\n",
       "            </tr>\n",
       "    </tbody></table>"
      ],
      "text/plain": [
       "<pandas.io.formats.style.Styler at 0x7ffae48bb670>"
      ]
     },
     "execution_count": 130,
     "metadata": {},
     "output_type": "execute_result"
    }
   ],
   "source": [
    "df.style.apply(highlight_max).bar(align='mid', subset=['diff'], \n",
    "                                  color=['#d65f5f', '#5fba7d'])"
   ]
  }
 ],
 "metadata": {
  "kernelspec": {
   "display_name": "Python [conda env:my_env]",
   "language": "python",
   "name": "conda-env-my_env-py"
  },
  "language_info": {
   "codemirror_mode": {
    "name": "ipython",
    "version": 3
   },
   "file_extension": ".py",
   "mimetype": "text/x-python",
   "name": "python",
   "nbconvert_exporter": "python",
   "pygments_lexer": "ipython3",
   "version": "3.8.3"
  }
 },
 "nbformat": 4,
 "nbformat_minor": 4
}
