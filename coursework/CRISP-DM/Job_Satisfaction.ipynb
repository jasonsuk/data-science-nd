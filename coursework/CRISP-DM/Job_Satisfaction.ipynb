{
 "cells": [
  {
   "cell_type": "markdown",
   "metadata": {},
   "source": [
    "## Job Satisfaction\n",
    "\n",
    "This notebook explores job satisfaction according to the survey results."
   ]
  },
  {
   "cell_type": "code",
   "execution_count": 10,
   "metadata": {},
   "outputs": [],
   "source": [
    "import pandas as pd\n",
    "import numpy as np\n",
    "import matplotlib.pyplot as plt\n",
    "import scipy.stats as stats\n",
    "\n",
    "%matplotlib inline"
   ]
  },
  {
   "cell_type": "code",
   "execution_count": 14,
   "metadata": {},
   "outputs": [],
   "source": [
    "df = pd.read_csv('../dataset/survey_results/survey-results-public.csv')\n",
    "schema = pd.read_csv('../dataset/survey_results/survey-results-schema.csv')\n",
    "#df.head()"
   ]
  },
  {
   "cell_type": "markdown",
   "metadata": {},
   "source": [
    "### Question Set 1\n",
    "- 1.1. The proportion of missing values in the Job Satisfaction column?\n",
    "- 1.2. According to EmploymentStatus, which group has the highest average job satisfaction?'\n",
    "- 1.3. In general, do smaller companies appear to have employees with higher job satisfaction?"
   ]
  },
  {
   "cell_type": "code",
   "execution_count": 11,
   "metadata": {},
   "outputs": [
    {
     "data": {
      "text/plain": [
       "0.20149722542142184"
      ]
     },
     "execution_count": 11,
     "metadata": {},
     "output_type": "execute_result"
    }
   ],
   "source": [
    "# 1.1 \n",
    "df.JobSatisfaction.isnull().sum() / df.shape[0]"
   ]
  },
  {
   "cell_type": "code",
   "execution_count": 17,
   "metadata": {},
   "outputs": [
    {
     "data": {
      "text/plain": [
       "EmploymentStatus\n",
       "Independent contractor, freelancer, or self-employed    7.252823\n",
       "Not employed, and not looking for work                  7.000000\n",
       "Employed full-time                                      6.926805\n",
       "Employed part-time                                      6.821468\n",
       "I prefer not to say                                          NaN\n",
       "Not employed, but looking for work                           NaN\n",
       "Retired                                                      NaN\n",
       "Name: JobSatisfaction, dtype: float64"
      ]
     },
     "execution_count": 17,
     "metadata": {},
     "output_type": "execute_result"
    }
   ],
   "source": [
    "# 1.2\n",
    "# df.EmploymentStatus.value_counts()\n",
    "df.groupby('EmploymentStatus').mean().JobSatisfaction.sort_values(ascending=False)"
   ]
  },
  {
   "cell_type": "code",
   "execution_count": 32,
   "metadata": {
    "scrolled": true
   },
   "outputs": [
    {
     "data": {
      "text/plain": [
       "CompanySize\n",
       "I prefer not to answer      7.284946\n",
       "I don't know                7.054622\n",
       "10 to 19 employees          7.035739\n",
       "500 to 999 employees        7.029967\n",
       "100 to 499 employees        7.029324\n",
       "Fewer than 10 employees     7.025719\n",
       "20 to 99 employees          6.997039\n",
       "1,000 to 4,999 employees    6.908506\n",
       "5,000 to 9,999 employees    6.832155\n",
       "10,000 or more employees    6.793617\n",
       "Name: JobSatisfaction, dtype: float64"
      ]
     },
     "execution_count": 32,
     "metadata": {},
     "output_type": "execute_result"
    }
   ],
   "source": [
    "# 1.3\n",
    "df.groupby('CompanySize').mean().JobSatisfaction.sort_values(ascending=False)"
   ]
  },
  {
   "cell_type": "markdown",
   "metadata": {},
   "source": [
    "#### Overview - Question Set 1\n",
    "\n",
    "20% of the total dataset misses Job Satisfaction, account for the survey participants who are not employed, retired or prefer not to answer the question. It is contractors/self-employed groups that have the highest job satisfcation among different groups of employement status. It may not be largely noticeable, but there is a trend that explains that job satisfaction is more likely higher when working in smaller-scale companies."
   ]
  },
  {
   "cell_type": "markdown",
   "metadata": {},
   "source": [
    "---\n",
    "### Question Set 2"
   ]
  },
  {
   "cell_type": "markdown",
   "metadata": {},
   "source": [
    "#### 2.1. Do individuals who program outside of work appear to have higher JobSatisfaction?"
   ]
  },
  {
   "cell_type": "code",
   "execution_count": 24,
   "metadata": {},
   "outputs": [
    {
     "data": {
      "text/plain": [
       "Yes, I program as a hobby                    24801\n",
       "Yes, both                                    13756\n",
       "No                                            9787\n",
       "Yes, I contribute to open source projects     3048\n",
       "Name: ProgramHobby, dtype: int64"
      ]
     },
     "execution_count": 24,
     "metadata": {},
     "output_type": "execute_result"
    }
   ],
   "source": [
    "df.ProgramHobby.value_counts()"
   ]
  },
  {
   "cell_type": "code",
   "execution_count": 20,
   "metadata": {
    "scrolled": true
   },
   "outputs": [
    {
     "data": {
      "text/plain": [
       "True"
      ]
     },
     "execution_count": 20,
     "metadata": {},
     "output_type": "execute_result"
    }
   ],
   "source": [
    "# Seperate into two groups : program outside work vs as work\n",
    "program_outside_work = df.query('ProgramHobby != \"No\"')\n",
    "program_as_work = df.query('ProgramHobby == \"No\"')\n",
    "program_outside_work.shape[0] + program_as_work.shape[0] == df.shape[0]"
   ]
  },
  {
   "cell_type": "code",
   "execution_count": 21,
   "metadata": {},
   "outputs": [],
   "source": [
    "# Job Satisfaction\n",
    "program_outside_work_js = program_outside_work.JobSatisfaction.dropna()\n",
    "program_as_work_js = program_as_work.JobSatisfaction.dropna()"
   ]
  },
  {
   "cell_type": "code",
   "execution_count": 23,
   "metadata": {},
   "outputs": [
    {
     "data": {
      "text/plain": [
       "(count    31897.000000\n",
       " mean         6.989842\n",
       " std          2.166932\n",
       " Name: JobSatisfaction, dtype: float64,\n",
       " count    8479.000000\n",
       " mean        6.833825\n",
       " std         2.166050\n",
       " Name: JobSatisfaction, dtype: float64)"
      ]
     },
     "execution_count": 23,
     "metadata": {},
     "output_type": "execute_result"
    }
   ],
   "source": [
    "program_outside_work_js.describe()[:3], program_as_work_js.describe()[:3]"
   ]
  },
  {
   "cell_type": "code",
   "execution_count": 66,
   "metadata": {
    "scrolled": true
   },
   "outputs": [
    {
     "data": {
      "text/plain": [
       "<matplotlib.legend.Legend at 0x7fc5ec57edd8>"
      ]
     },
     "execution_count": 66,
     "metadata": {},
     "output_type": "execute_result"
    },
    {
     "data": {
      "image/png": "[encoded data removed]",
      "text/plain": [
       "<matplotlib.figure.Figure at 0x7fc5ec63dd30>"
      ]
     },
     "metadata": {
      "needs_background": "light"
     },
     "output_type": "display_data"
    }
   ],
   "source": [
    "program_outside_work_js.hist(bins=11, label='Program Outside')\n",
    "program_as_work_js.hist(bins=11, label='Program as Work')\n",
    "plt.legend()"
   ]
  },
  {
   "cell_type": "markdown",
   "metadata": {},
   "source": [
    "It looks that those who program outside work has higher satisfaction than those who program as work on average. Let's see if this finding is statistically significant using t-test."
   ]
  },
  {
   "cell_type": "code",
   "execution_count": 64,
   "metadata": {
    "scrolled": true
   },
   "outputs": [
    {
     "data": {
      "text/plain": [
       "(-3.7496535880002826, 0.00017906957710036751)"
      ]
     },
     "execution_count": 64,
     "metadata": {},
     "output_type": "execute_result"
    }
   ],
   "source": [
    "tstats, pvalue = stats.ttest_ind(program_as_work_js, program_outside_work_js, equal_var=False, nan_policy='raise')\n",
    "tstats, pvalue"
   ]
  },
  {
   "cell_type": "markdown",
   "metadata": {},
   "source": [
    "Assuming 95% confidence, where alpha = 0.05, the p-value result 0.00179 < alpha. P_value might be controversial but gives a quick look that confirms the earlier finding : people who program outside work has a higher average job satisfaction than people who program at work."
   ]
  },
  {
   "cell_type": "markdown",
   "metadata": {},
   "source": [
    "#### 2.2. Does flexibility to work outside of the office appear to have an influence on JobSatisfaction?'"
   ]
  },
  {
   "cell_type": "code",
   "execution_count": 72,
   "metadata": {},
   "outputs": [
    {
     "data": {
      "text/plain": [
       "HomeRemote\n",
       "All or almost all the time (I'm full-time remote)          7.405421\n",
       "Less than half the time, but at least one day each week    7.143786\n",
       "About half the time                                        7.125737\n",
       "A few days each month                                      7.096694\n",
       "More than half, but not all, the time                      6.973684\n",
       "It's complicated                                           6.942053\n",
       "Never                                                      6.697127\n",
       "Name: JobSatisfaction, dtype: float64"
      ]
     },
     "execution_count": 72,
     "metadata": {},
     "output_type": "execute_result"
    }
   ],
   "source": [
    "df.groupby('HomeRemote').mean().JobSatisfaction.sort_values(ascending=False)#.plot(kind='bar')"
   ]
  },
  {
   "cell_type": "markdown",
   "metadata": {},
   "source": [
    "Overall, given the dataset it is more likely that working remotely gives more job satisafction than the counterpart (working in the office)."
   ]
  },
  {
   "cell_type": "markdown",
   "metadata": {},
   "source": [
    "#### 2.3. A friend says a Doctoral degree increases the chance of having job you like, does this seem true?"
   ]
  },
  {
   "cell_type": "code",
   "execution_count": 79,
   "metadata": {
    "scrolled": true
   },
   "outputs": [
    {
     "data": {
      "text/plain": [
       "FormalEducation\n",
       "Bachelor's degree                                                    6.900293\n",
       "Primary/elementary school                                            6.946237\n",
       "Master's degree                                                      6.977356\n",
       "I never completed any formal education                               7.000000\n",
       "Professional degree                                                  7.075893\n",
       "Some college/university study without earning a bachelor's degree    7.151268\n",
       "I prefer not to answer                                               7.211679\n",
       "Secondary school                                                     7.219512\n",
       "Doctoral degree                                                      7.438492\n",
       "Name: JobSatisfaction, dtype: float64"
      ]
     },
     "execution_count": 79,
     "metadata": {},
     "output_type": "execute_result"
    }
   ],
   "source": [
    "df.groupby('FormalEducation').mean().JobSatisfaction.sort_values()"
   ]
  },
  {
   "cell_type": "code",
   "execution_count": 80,
   "metadata": {},
   "outputs": [
    {
     "data": {
      "text/plain": [
       "True"
      ]
     },
     "execution_count": 80,
     "metadata": {},
     "output_type": "execute_result"
    }
   ],
   "source": [
    "doctoral_yes = df.query('FormalEducation == \"Doctoral degree\"')\n",
    "doctoral_no = df.query('FormalEducation != \"Doctoral degree\"')\n",
    "doctoral_yes.shape[0] + doctoral_no.shape[0] == df.shape[0]"
   ]
  },
  {
   "cell_type": "code",
   "execution_count": 84,
   "metadata": {},
   "outputs": [],
   "source": [
    "doctoral_yes_js = doctoral_yes.JobSatisfaction.dropna()\n",
    "doctoral_no_js = doctoral_no.JobSatisfaction.dropna()"
   ]
  },
  {
   "cell_type": "code",
   "execution_count": 86,
   "metadata": {
    "scrolled": true
   },
   "outputs": [
    {
     "data": {
      "text/plain": [
       "Ttest_indResult(statistic=5.2455431457257333, pvalue=2.2306780188060128e-07)"
      ]
     },
     "execution_count": 86,
     "metadata": {},
     "output_type": "execute_result"
    }
   ],
   "source": [
    "# T-test to validate the result\n",
    "stats.ttest_ind(doctoral_yes_js, doctoral_no_js, equal_var=False, nan_policy='raise')"
   ]
  },
  {
   "cell_type": "markdown",
   "metadata": {},
   "source": [
    "The respondents with doctoral degree appear to be more satisfied at work (7.44) than those without.\n",
    "\n",
    "Given the p-value of 0.00000022306 > alpha (0.05), it suggests that the difference in job satisfaction between doctoral and non-doctoral degree holders is satistically significant (doctoral vs non-doctoral)."
   ]
  }
 ],
 "metadata": {
  "kernelspec": {
   "display_name": "Python 3",
   "language": "python",
   "name": "python3"
  },
  "language_info": {
   "codemirror_mode": {
    "name": "ipython",
    "version": 3
   },
   "file_extension": ".py",
   "mimetype": "text/x-python",
   "name": "python",
   "nbconvert_exporter": "python",
   "pygments_lexer": "ipython3",
   "version": "3.7.6"
  }
 },
 "nbformat": 4,
 "nbformat_minor": 2
}
