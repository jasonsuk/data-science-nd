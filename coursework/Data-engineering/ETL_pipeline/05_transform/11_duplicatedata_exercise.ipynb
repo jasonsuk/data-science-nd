{
 "cells": [
  {
   "cell_type": "markdown",
   "metadata": {},
   "source": [
    "# Duplicate Data\n",
    "\n",
    "A data set might have duplicate data: in other words, the same record is represented multiple times. Sometimes, it's easy to find and eliminate duplicate data like when two records are exactly the same. At other times, like what was discussed in the video, duplicate data is hard to spot. \n",
    "\n",
    "# Exercise 1\n",
    "\n",
    "From the World Bank GDP data, count the number of countries that have had a project totalamt greater than 1 billion dollars (1,000,000,000). To get the count, you'll have to remove duplicate data rows."
   ]
  },
  {
   "cell_type": "code",
   "execution_count": 1,
   "metadata": {},
   "outputs": [],
   "source": [
    "import pandas as pd\n",
    "import datetime \n",
    "import numpy as np"
   ]
  },
  {
   "cell_type": "code",
   "execution_count": 2,
   "metadata": {},
   "outputs": [],
   "source": [
    "# read in the projects data set and do some basic wrangling \n",
    "projects = pd.read_csv('./data/projects_data.csv', dtype=str)\n",
    "projects.drop('Unnamed: 56', axis=1, inplace=True)\n",
    "projects['totalamt'] = pd.to_numeric(projects['totalamt'].str.replace(',', ''))\n",
    "projects['countryname'] = projects['countryname'].str.split(';', expand=True)[0]\n",
    "projects['boardapprovaldate'] = pd.to_datetime(projects['boardapprovaldate'])\n",
    "\n",
    "# TODO: filter the data frame for projects over 1 billion dollars\n",
    "# TODO: count the number of unique countries in the results"
   ]
  },
  {
   "cell_type": "code",
   "execution_count": 3,
   "metadata": {},
   "outputs": [
    {
     "data": {
      "text/plain": [
       "(44, 56)"
      ]
     },
     "execution_count": 3,
     "metadata": {},
     "output_type": "execute_result"
    }
   ],
   "source": [
    "projects.query('totalamt > 1000000000').shape"
   ]
  },
  {
   "cell_type": "code",
   "execution_count": 4,
   "metadata": {
    "scrolled": true
   },
   "outputs": [
    {
     "data": {
      "text/plain": [
       "17"
      ]
     },
     "execution_count": 4,
     "metadata": {},
     "output_type": "execute_result"
    }
   ],
   "source": [
    "projects.query('totalamt > 1000000000')['countryname'].nunique()"
   ]
  },
  {
   "cell_type": "code",
   "execution_count": 5,
   "metadata": {
    "scrolled": false
   },
   "outputs": [
    {
     "data": {
      "text/plain": [
       "27"
      ]
     },
     "execution_count": 5,
     "metadata": {},
     "output_type": "execute_result"
    }
   ],
   "source": [
    "projects.query('totalamt > 1000000000').duplicated(subset=['countryname']).sum()"
   ]
  },
  {
   "cell_type": "code",
   "execution_count": 6,
   "metadata": {},
   "outputs": [
    {
     "data": {
      "text/plain": [
       "17"
      ]
     },
     "execution_count": 6,
     "metadata": {},
     "output_type": "execute_result"
    }
   ],
   "source": [
    "projects.query('totalamt > 1000000000').drop_duplicates(subset=['countryname']).shape[0]"
   ]
  },
  {
   "cell_type": "markdown",
   "metadata": {},
   "source": [
    "# Exercise 2 (challenge)\n",
    "\n",
    "This exercise is more challenging. The projects data set contains data about Yugoslavia, which was an Eastern European country until 1992. Yugoslavia eventually broke up into 7 countries: Bosnia and Herzegovina, Croatia, Kosovo, Macedonia, Montenegro, Serbia, and Slovenia.\n",
    "\n",
    "But the projects dataset has some ambiguity in how it treats Yugoslavia and the 7 countries that came from Yugoslavia. Your task is to find Yugoslavia projects that are probably represented multiple times in the data set."
   ]
  },
  {
   "cell_type": "code",
   "execution_count": 7,
   "metadata": {},
   "outputs": [
    {
     "data": {
      "text/plain": [
       "(90, 56)"
      ]
     },
     "execution_count": 7,
     "metadata": {},
     "output_type": "execute_result"
    }
   ],
   "source": [
    "# Official name is 'Socialist Federal Republic of Yugoslavia' \n",
    "# with possibility of variation\n",
    "\n",
    "yugoslavia = projects[projects.countryname.str.contains('Yugo')]\n",
    "yugoslavia.shape"
   ]
  },
  {
   "cell_type": "markdown",
   "metadata": {},
   "source": [
    "Yugoslavia officially ended on [April 27th, 1992](https://en.wikipedia.org/wiki/Yugoslavia). \n",
    "\n",
    "In the code cell below, filter for projects with a 'boardapprovaldate' prior to April 27th, 1992 **and** with 'countryname' Bosnia and Herzegovina, Croatia, Kosovo, Macedonia, Serbia **or** Slovenia. Save the results in the republics variable"
   ]
  },
  {
   "cell_type": "code",
   "execution_count": 8,
   "metadata": {},
   "outputs": [],
   "source": [
    "republics_list = ['Bosnia and Herzegovina', 'Croatia', 'Kosovo', 'Macedonia', \n",
    "                  'Serbia', 'Montenegro', 'Slovenia']\n",
    "\n",
    "cols_to_keep = ['regionname', 'countryname', 'lendinginstr', 'totalamt',\n",
    "                'boardapprovaldate','location', 'GeoLocID', 'GeoLocName',\n",
    "                'Latitude', 'Longitude', 'Country', 'project_name']\n",
    "\n",
    "projects = projects[cols_to_keep]\n",
    "\n",
    "republics = projects[\n",
    "    (projects.boardapprovaldate <= '1992-04-27') &\n",
    "    (projects.countryname.isin(republics_list))\n",
    "]"
   ]
  },
  {
   "cell_type": "code",
   "execution_count": 9,
   "metadata": {},
   "outputs": [
    {
     "data": {
      "text/html": [
       "<div>\n",
       "<style scoped>\n",
       "    .dataframe tbody tr th:only-of-type {\n",
       "        vertical-align: middle;\n",
       "    }\n",
       "\n",
       "    .dataframe tbody tr th {\n",
       "        vertical-align: top;\n",
       "    }\n",
       "\n",
       "    .dataframe thead th {\n",
       "        text-align: right;\n",
       "    }\n",
       "</style>\n",
       "<table border=\"1\" class=\"dataframe\">\n",
       "  <thead>\n",
       "    <tr style=\"text-align: right;\">\n",
       "      <th></th>\n",
       "      <th>regionname</th>\n",
       "      <th>countryname</th>\n",
       "      <th>lendinginstr</th>\n",
       "      <th>totalamt</th>\n",
       "      <th>boardapprovaldate</th>\n",
       "      <th>location</th>\n",
       "      <th>GeoLocID</th>\n",
       "      <th>GeoLocName</th>\n",
       "      <th>Latitude</th>\n",
       "      <th>Longitude</th>\n",
       "      <th>Country</th>\n",
       "      <th>project_name</th>\n",
       "    </tr>\n",
       "  </thead>\n",
       "  <tbody>\n",
       "    <tr>\n",
       "      <th>12063</th>\n",
       "      <td>Europe and Central Asia</td>\n",
       "      <td>Bosnia and Herzegovina</td>\n",
       "      <td>Sector Investment and Maintenance Loan</td>\n",
       "      <td>0</td>\n",
       "      <td>1987-10-13 00:00:00+00:00</td>\n",
       "      <td>NaN</td>\n",
       "      <td>NaN</td>\n",
       "      <td>NaN</td>\n",
       "      <td>NaN</td>\n",
       "      <td>NaN</td>\n",
       "      <td>NaN</td>\n",
       "      <td>HIGHWAY SECTOR II</td>\n",
       "    </tr>\n",
       "    <tr>\n",
       "      <th>13048</th>\n",
       "      <td>Europe and Central Asia</td>\n",
       "      <td>Bosnia and Herzegovina</td>\n",
       "      <td>Specific Investment Loan</td>\n",
       "      <td>0</td>\n",
       "      <td>1983-07-26 00:00:00+00:00</td>\n",
       "      <td>NaN</td>\n",
       "      <td>NaN</td>\n",
       "      <td>NaN</td>\n",
       "      <td>NaN</td>\n",
       "      <td>NaN</td>\n",
       "      <td>NaN</td>\n",
       "      <td>POWER TRANS.III</td>\n",
       "    </tr>\n",
       "    <tr>\n",
       "      <th>13050</th>\n",
       "      <td>Europe and Central Asia</td>\n",
       "      <td>Macedonia</td>\n",
       "      <td>Specific Investment Loan</td>\n",
       "      <td>0</td>\n",
       "      <td>1983-07-26 00:00:00+00:00</td>\n",
       "      <td>NaN</td>\n",
       "      <td>NaN</td>\n",
       "      <td>NaN</td>\n",
       "      <td>NaN</td>\n",
       "      <td>NaN</td>\n",
       "      <td>NaN</td>\n",
       "      <td>POWER TRANS.III</td>\n",
       "    </tr>\n",
       "    <tr>\n",
       "      <th>13973</th>\n",
       "      <td>Europe and Central Asia</td>\n",
       "      <td>Macedonia</td>\n",
       "      <td>Specific Investment Loan</td>\n",
       "      <td>24000000</td>\n",
       "      <td>1980-02-01 00:00:00+00:00</td>\n",
       "      <td>NaN</td>\n",
       "      <td>NaN</td>\n",
       "      <td>NaN</td>\n",
       "      <td>NaN</td>\n",
       "      <td>NaN</td>\n",
       "      <td>NaN</td>\n",
       "      <td>Agriculture &amp; Agroindustry 2 Project (Macedonia)</td>\n",
       "    </tr>\n",
       "  </tbody>\n",
       "</table>\n",
       "</div>"
      ],
      "text/plain": [
       "                    regionname             countryname  \\\n",
       "12063  Europe and Central Asia  Bosnia and Herzegovina   \n",
       "13048  Europe and Central Asia  Bosnia and Herzegovina   \n",
       "13050  Europe and Central Asia               Macedonia   \n",
       "13973  Europe and Central Asia               Macedonia   \n",
       "\n",
       "                                 lendinginstr  totalamt  \\\n",
       "12063  Sector Investment and Maintenance Loan         0   \n",
       "13048                Specific Investment Loan         0   \n",
       "13050                Specific Investment Loan         0   \n",
       "13973                Specific Investment Loan  24000000   \n",
       "\n",
       "              boardapprovaldate location GeoLocID GeoLocName Latitude  \\\n",
       "12063 1987-10-13 00:00:00+00:00      NaN      NaN        NaN      NaN   \n",
       "13048 1983-07-26 00:00:00+00:00      NaN      NaN        NaN      NaN   \n",
       "13050 1983-07-26 00:00:00+00:00      NaN      NaN        NaN      NaN   \n",
       "13973 1980-02-01 00:00:00+00:00      NaN      NaN        NaN      NaN   \n",
       "\n",
       "      Longitude Country                                      project_name  \n",
       "12063       NaN     NaN                                 HIGHWAY SECTOR II  \n",
       "13048       NaN     NaN                                   POWER TRANS.III  \n",
       "13050       NaN     NaN                                   POWER TRANS.III  \n",
       "13973       NaN     NaN  Agriculture & Agroindustry 2 Project (Macedonia)  "
      ]
     },
     "execution_count": 9,
     "metadata": {},
     "output_type": "execute_result"
    }
   ],
   "source": [
    "republics "
   ]
  },
  {
   "cell_type": "markdown",
   "metadata": {},
   "source": [
    "Are these projects also represented in the data labeled Yugoslavia? In the code cell below, filter for Yugoslavia projects approved between February 1st, 1980 and May 23rd, 1989 which are the minimum and maximum dates in the results above. Store the results in the yugoslavia variable.\n",
    "\n",
    "The goal is to see if there are any projects represented more than once in the data set."
   ]
  },
  {
   "cell_type": "code",
   "execution_count": 15,
   "metadata": {
    "scrolled": false
   },
   "outputs": [
    {
     "data": {
      "text/plain": [
       "(31, 12)"
      ]
     },
     "execution_count": 15,
     "metadata": {},
     "output_type": "execute_result"
    }
   ],
   "source": [
    "yugoslavia = projects[projects.countryname.str.contains('Yugo')]\n",
    "yugoslavia = yugoslavia[(yugoslavia.boardapprovaldate >= '1980-2-1') & \n",
    "                        (yugoslavia.boardapprovaldate <= '1989-5-23')]\n",
    "\n",
    "yugoslavia.shape"
   ]
  },
  {
   "cell_type": "code",
   "execution_count": 19,
   "metadata": {},
   "outputs": [],
   "source": [
    "republic_unique_dates = [republics.boardapprovaldate.sort_values().unique()]\n",
    "yugoslavia_unique_dates = [yugoslavia.boardapprovaldate.sort_values().unique()]\n",
    "\n",
    "dates = np.append(republic_unique_dates, yugoslavia_unique_dates)"
   ]
  },
  {
   "cell_type": "code",
   "execution_count": 23,
   "metadata": {},
   "outputs": [
    {
     "name": "stdout",
     "output_type": "stream",
     "text": [
      "1983-07-26 00:00:00+00:00\n",
      "1987-10-13 00:00:00+00:00\n"
     ]
    }
   ],
   "source": [
    "# print out the dates that appeared twice in the results\n",
    "unique_dates, counts = np.unique(dates, return_counts=True)\n",
    "\n",
    "for i in range(len(unique_dates)) :\n",
    "    if counts[i] > 1 : \n",
    "        print(unique_dates[i])"
   ]
  },
  {
   "cell_type": "markdown",
   "metadata": {},
   "source": [
    "And as a final step, try to see if there are any projects in the republics variable and yugoslavia variable that could be the same project.\n",
    "\n",
    "There are multiple ways to do that. As a suggestion, find unique dates in the republics variable. Then separately find unique dates in the yugoslavia variable. Concatenate (ie append) the results together. And then count the number of times each date occurs in this list. If a date occurs twice, that means the same boardapprovaldate appeared in both the Yugoslavia data as well as in the republics data.\n",
    "\n",
    "You should find that there are ~~four~~ **two** suspicious cases:\n",
    "\n",
    "* July 26th, 1983\n",
    "* ~~March 31st, 1987~~\n",
    "* October 13th, 1987\n",
    "* ~~May 23rd, 1989~~"
   ]
  },
  {
   "cell_type": "markdown",
   "metadata": {},
   "source": [
    "# Conclusion\n",
    "\n",
    "On July 26th, 1983, for example, projects were approved for Bosnia and Herzegovina, Croatia, Macedonia, Slovenia, and Yugoslavia. The code below shows the projects for that date. You'll notice that Yugoslavia had two projects, one of which was called \"Power Transmission Project (03) Energy Managem...\". The projects in the other countries were all called \"POWER TRANS.III\". \n",
    "\n",
    "This looks like a case of duplicate data. What you end up doing with this knowledge would depend on the context. For example, if you wanted to get a true count for the total number of projects in the data set, should all of these projects be counted as one project? \n",
    "\n",
    "Run the code cell below to see the projects in question."
   ]
  },
  {
   "cell_type": "code",
   "execution_count": 25,
   "metadata": {},
   "outputs": [
    {
     "data": {
      "text/html": [
       "<div>\n",
       "<style scoped>\n",
       "    .dataframe tbody tr th:only-of-type {\n",
       "        vertical-align: middle;\n",
       "    }\n",
       "\n",
       "    .dataframe tbody tr th {\n",
       "        vertical-align: top;\n",
       "    }\n",
       "\n",
       "    .dataframe thead th {\n",
       "        text-align: right;\n",
       "    }\n",
       "</style>\n",
       "<table border=\"1\" class=\"dataframe\">\n",
       "  <thead>\n",
       "    <tr style=\"text-align: right;\">\n",
       "      <th></th>\n",
       "      <th>regionname</th>\n",
       "      <th>countryname</th>\n",
       "      <th>lendinginstr</th>\n",
       "      <th>totalamt</th>\n",
       "      <th>boardapprovaldate</th>\n",
       "      <th>location</th>\n",
       "      <th>GeoLocID</th>\n",
       "      <th>GeoLocName</th>\n",
       "      <th>Latitude</th>\n",
       "      <th>Longitude</th>\n",
       "      <th>Country</th>\n",
       "      <th>project_name</th>\n",
       "    </tr>\n",
       "  </thead>\n",
       "  <tbody>\n",
       "    <tr>\n",
       "      <th>13046</th>\n",
       "      <td>Europe and Central Asia</td>\n",
       "      <td>Socialist Federal Republic of Yugoslavia</td>\n",
       "      <td>Financial Intermediary Loan</td>\n",
       "      <td>70000000</td>\n",
       "      <td>1983-07-26 00:00:00+00:00</td>\n",
       "      <td>NaN</td>\n",
       "      <td>NaN</td>\n",
       "      <td>NaN</td>\n",
       "      <td>NaN</td>\n",
       "      <td>NaN</td>\n",
       "      <td>NaN</td>\n",
       "      <td>Industrial Credit Project (07)</td>\n",
       "    </tr>\n",
       "    <tr>\n",
       "      <th>13047</th>\n",
       "      <td>Europe and Central Asia</td>\n",
       "      <td>Socialist Federal Republic of Yugoslavia</td>\n",
       "      <td>Specific Investment Loan</td>\n",
       "      <td>120000000</td>\n",
       "      <td>1983-07-26 00:00:00+00:00</td>\n",
       "      <td>NaN</td>\n",
       "      <td>NaN</td>\n",
       "      <td>NaN</td>\n",
       "      <td>NaN</td>\n",
       "      <td>NaN</td>\n",
       "      <td>NaN</td>\n",
       "      <td>Power Transmission Project (03) Energy Managem...</td>\n",
       "    </tr>\n",
       "    <tr>\n",
       "      <th>13048</th>\n",
       "      <td>Europe and Central Asia</td>\n",
       "      <td>Bosnia and Herzegovina</td>\n",
       "      <td>Specific Investment Loan</td>\n",
       "      <td>0</td>\n",
       "      <td>1983-07-26 00:00:00+00:00</td>\n",
       "      <td>NaN</td>\n",
       "      <td>NaN</td>\n",
       "      <td>NaN</td>\n",
       "      <td>NaN</td>\n",
       "      <td>NaN</td>\n",
       "      <td>NaN</td>\n",
       "      <td>POWER TRANS.III</td>\n",
       "    </tr>\n",
       "    <tr>\n",
       "      <th>13050</th>\n",
       "      <td>Europe and Central Asia</td>\n",
       "      <td>Macedonia</td>\n",
       "      <td>Specific Investment Loan</td>\n",
       "      <td>0</td>\n",
       "      <td>1983-07-26 00:00:00+00:00</td>\n",
       "      <td>NaN</td>\n",
       "      <td>NaN</td>\n",
       "      <td>NaN</td>\n",
       "      <td>NaN</td>\n",
       "      <td>NaN</td>\n",
       "      <td>NaN</td>\n",
       "      <td>POWER TRANS.III</td>\n",
       "    </tr>\n",
       "  </tbody>\n",
       "</table>\n",
       "</div>"
      ],
      "text/plain": [
       "                    regionname                               countryname  \\\n",
       "13046  Europe and Central Asia  Socialist Federal Republic of Yugoslavia   \n",
       "13047  Europe and Central Asia  Socialist Federal Republic of Yugoslavia   \n",
       "13048  Europe and Central Asia                    Bosnia and Herzegovina   \n",
       "13050  Europe and Central Asia                                 Macedonia   \n",
       "\n",
       "                      lendinginstr   totalamt         boardapprovaldate  \\\n",
       "13046  Financial Intermediary Loan   70000000 1983-07-26 00:00:00+00:00   \n",
       "13047     Specific Investment Loan  120000000 1983-07-26 00:00:00+00:00   \n",
       "13048     Specific Investment Loan          0 1983-07-26 00:00:00+00:00   \n",
       "13050     Specific Investment Loan          0 1983-07-26 00:00:00+00:00   \n",
       "\n",
       "      location GeoLocID GeoLocName Latitude Longitude Country  \\\n",
       "13046      NaN      NaN        NaN      NaN       NaN     NaN   \n",
       "13047      NaN      NaN        NaN      NaN       NaN     NaN   \n",
       "13048      NaN      NaN        NaN      NaN       NaN     NaN   \n",
       "13050      NaN      NaN        NaN      NaN       NaN     NaN   \n",
       "\n",
       "                                            project_name  \n",
       "13046                     Industrial Credit Project (07)  \n",
       "13047  Power Transmission Project (03) Energy Managem...  \n",
       "13048                                    POWER TRANS.III  \n",
       "13050                                    POWER TRANS.III  "
      ]
     },
     "execution_count": 25,
     "metadata": {},
     "output_type": "execute_result"
    }
   ],
   "source": [
    "import datetime\n",
    "\n",
    "# run this code cell to see the duplicate data\n",
    "pd.concat([yugoslavia[yugoslavia['boardapprovaldate'] =='1983-07-26'], \n",
    "           republics[republics['boardapprovaldate'] == '1983-07-26']])"
   ]
  },
  {
   "cell_type": "code",
   "execution_count": null,
   "metadata": {},
   "outputs": [],
   "source": []
  }
 ],
 "metadata": {
  "kernelspec": {
   "display_name": "Python 3",
   "language": "python",
   "name": "python3"
  },
  "language_info": {
   "codemirror_mode": {
    "name": "ipython",
    "version": 3
   },
   "file_extension": ".py",
   "mimetype": "text/x-python",
   "name": "python",
   "nbconvert_exporter": "python",
   "pygments_lexer": "ipython3",
   "version": "3.8.2"
  }
 },
 "nbformat": 4,
 "nbformat_minor": 2
}
